{
 "cells": [
  {
   "cell_type": "markdown",
   "metadata": {},
   "source": [
    "## Movie Review Dataset, Word2Vec, Topic Modeling, and Sentiment Classification\n",
    "### Part 1. Word2Vec\n",
    "We will use parts 1 thru 4 of the blog https://www.kaggle.com/c/word2vec-nlp-tutorial/details/part-1-for-beginners-bag-of-words as reference for Part I. The steps we will take for this part are as follows:\n",
    "\n",
    "a. Create vector representations for each movie post in your training set by training word2vec with context=5, embedding dimension=100, min_words=40. We’ll call the collection of these representations Z1.\n",
    "\n",
    "b. Create vector representations for each movie post in your training set by loading the pretrained Google word2vec model. We’ll call the collection of thes representations Z2.\n",
    "\n",
    "c. With k=10, do k-means clustering on each set Z1, Z2. Print a table of the words in each cluster for Z1 and for Z2.\n",
    "\n",
    "d. Featurize the training and test reviews in Z1, Z2 to produce design matrices X1, X2 as described in part 3 of the blog series. Basically, each review is converted into a bag of centroids feature vector with each vector component representing\n",
    "the count of the number of words in that review that belong in that component’s cluster.\n",
    "\n",
    "e. Save X1,X2 for Part III."
   ]
  },
  {
   "cell_type": "markdown",
   "metadata": {},
   "source": [
    "First, we read in the data with pandas. We will also use unlabeledTrain.tsv, which contains 50,000 additional reviews with no labels. Since Word2Vec can learn from unlabeled data, these extra 50,000 reviews can now be used in addition to the labeled training data."
   ]
  },
  {
   "cell_type": "code",
   "execution_count": 1,
   "metadata": {},
   "outputs": [
    {
     "name": "stdout",
     "output_type": "stream",
     "text": [
      "Read 25000 labeled train reviews, 25000 labeled test reviews, and 50000 unlabeled reviews\n",
      "\n"
     ]
    }
   ],
   "source": [
    "import pandas as pd\n",
    "\n",
    "# Here, \"header=0\" indicates that the first line of the file contains column names,\n",
    "# \"delimiter=\\t\" indicates that the fields are separated by tabs, and \n",
    "# quoting=3 tells Python to ignore doubled quotes, otherwise you may encounter errors trying to read the file.\n",
    "train = pd.read_csv( \"labeledTrainData.tsv\", header=0, delimiter=\"\\t\", quoting=3 )\n",
    "unlabeled_train = pd.read_csv( \"unlabeledTrainData.tsv\", header=0, delimiter=\"\\t\", quoting=3 )\n",
    "test = pd.read_csv( \"testData.tsv\", header=0, delimiter=\"\\t\", quoting=3 )\n",
    "\n",
    "# Verify the number of reviews that were read (100,000 in total)\n",
    "print (\"Read {} labeled train reviews, {} labeled test reviews, and {} unlabeled reviews\\n\".format(\n",
    "        train[\"review\"].size, test[\"review\"].size, unlabeled_train[\"review\"].size))"
   ]
  },
  {
   "cell_type": "markdown",
   "metadata": {},
   "source": [
    "Let's check the columns of each data set to confirm that the unlabeled training data, unlike the labeled training data, is missing the sentiment scores as expected."
   ]
  },
  {
   "cell_type": "code",
   "execution_count": 2,
   "metadata": {},
   "outputs": [
    {
     "name": "stdout",
     "output_type": "stream",
     "text": [
      "['id' 'sentiment' 'review']\n",
      "['id' 'review']\n",
      "['id' 'review']\n"
     ]
    }
   ],
   "source": [
    "print(train.columns.values)\n",
    "print(test.columns.values)\n",
    "print(unlabeled_train.columns.values)"
   ]
  },
  {
   "cell_type": "code",
   "execution_count": 3,
   "metadata": {},
   "outputs": [
    {
     "name": "stdout",
     "output_type": "stream",
     "text": [
      "(25000, 3)\n",
      "(25000, 2)\n",
      "(50000, 2)\n"
     ]
    }
   ],
   "source": [
    "print(train.shape)  #expected (rows, cols) value of (25000, 3)\n",
    "print(test.shape)   #expected (rows, cols) value of (25000, 2)\n",
    "print(unlabeled_train.shape)   #expected (rows, cols) value of (50000, 2) since this is unlabeled training data"
   ]
  },
  {
   "cell_type": "markdown",
   "metadata": {},
   "source": [
    "We will now write functions to clean up the data. Since we'll be using Word2Vec, it is better not to remove stopwords because the algorithm relies on the broader context of the sentence in order to produce high-quality word vectors. So, we will make stopword removal optional below."
   ]
  },
  {
   "cell_type": "code",
   "execution_count": 4,
   "metadata": {
    "collapsed": true
   },
   "outputs": [],
   "source": [
    "# Import various modules for string cleaning\n",
    "from bs4 import BeautifulSoup\n",
    "import re #regular expressions\n",
    "from nltk.corpus import stopwords\n",
    "\n",
    "def review_to_wordlist( review, remove_stopwords=False, remove_nonletters=True ):\n",
    "    # Function to convert a document to a sequence of words,\n",
    "    # optionally removing stop words.  Returns a list of words.\n",
    "    #\n",
    "    # 1. Remove HTML\n",
    "#     review_text = BeautifulSoup(review).get_text()\n",
    "    review_text = BeautifulSoup(review, \"html.parser\").get_text()\n",
    "    #  \n",
    "    # 2. Remove non-letters depending on parameter above\n",
    "    if remove_nonletters:\n",
    "        review_text = re.sub(\"[^a-zA-Z]\",\" \", review_text)\n",
    "    #\n",
    "    # 3. Convert words to lower case and split them\n",
    "    words = review_text.lower().split()\n",
    "    #\n",
    "    # 4. Optionally remove stop words (false by default)\n",
    "    if remove_stopwords:\n",
    "        stops = set(stopwords.words(\"english\"))\n",
    "        words = [w for w in words if not w in stops]\n",
    "    #\n",
    "    # 5. Return a list of words\n",
    "    return(words)"
   ]
  },
  {
   "cell_type": "markdown",
   "metadata": {},
   "source": [
    "Next, we'll use NLTK's punkt tokenizer for sentence splitting. Make sure to have NLTK installed and if necessary, use nltk.download() to download punkt."
   ]
  },
  {
   "cell_type": "code",
   "execution_count": 5,
   "metadata": {
    "collapsed": true
   },
   "outputs": [],
   "source": [
    "# Download the punkt tokenizer for sentence splitting\n",
    "import nltk.data\n",
    "# nltk.download()\n",
    "\n",
    "# Load the punkt tokenizer\n",
    "tokenizer = nltk.data.load('tokenizers/punkt/english.pickle')\n",
    "\n",
    "# Define a function to split a review into parsed sentences\n",
    "def review_to_sentences( review, tokenizer, remove_stopwords=False ):\n",
    "    # Function to split a review into parsed sentences. Returns a \n",
    "    # list of sentences, where each sentence is a list of words\n",
    "    #\n",
    "    # 1. Use the NLTK tokenizer to split the paragraph into sentences\n",
    "    raw_sentences = tokenizer.tokenize(review.strip())\n",
    "    #\n",
    "    # 2. Loop over each sentence\n",
    "    sentences = []\n",
    "    for raw_sentence in raw_sentences:\n",
    "        # If a sentence is empty, skip it\n",
    "        if len(raw_sentence) > 0:\n",
    "            # Otherwise, call review_to_wordlist to get a list of words\n",
    "            sentences.append( review_to_wordlist( raw_sentence, \\\n",
    "              remove_stopwords ))\n",
    "    #\n",
    "    # Return the list of sentences (each sentence is a list of words,\n",
    "    # so this returns a list of lists\n",
    "    return sentences"
   ]
  },
  {
   "cell_type": "markdown",
   "metadata": {},
   "source": [
    "Now we can invoke the above functions to prepare our data for input to Word2Vec. There may be some warnings outputted during this process, which can be ignored."
   ]
  },
  {
   "cell_type": "code",
   "execution_count": 6,
   "metadata": {
    "scrolled": true
   },
   "outputs": [
    {
     "name": "stdout",
     "output_type": "stream",
     "text": [
      "Parsing sentences from training set\n"
     ]
    },
    {
     "name": "stderr",
     "output_type": "stream",
     "text": [
      "D:\\Program_Files_Nospace\\Anaconda3\\lib\\site-packages\\bs4\\__init__.py:219: UserWarning: \"b'.'\" looks like a filename, not markup. You should probably open this file and pass the filehandle into Beautiful Soup.\n",
      "  ' Beautiful Soup.' % markup)\n",
      "D:\\Program_Files_Nospace\\Anaconda3\\lib\\site-packages\\bs4\\__init__.py:219: UserWarning: \"b'...'\" looks like a filename, not markup. You should probably open this file and pass the filehandle into Beautiful Soup.\n",
      "  ' Beautiful Soup.' % markup)\n",
      "D:\\Program_Files_Nospace\\Anaconda3\\lib\\site-packages\\bs4\\__init__.py:282: UserWarning: \"http://www.happierabroad.com\"\" looks like a URL. Beautiful Soup is not an HTTP client. You should probably use an HTTP client like requests to get the document behind the URL, and feed that document to Beautiful Soup.\n",
      "  ' that document to Beautiful Soup.' % decoded_markup\n"
     ]
    },
    {
     "name": "stdout",
     "output_type": "stream",
     "text": [
      "Parsing sentences from unlabeled set\n"
     ]
    },
    {
     "name": "stderr",
     "output_type": "stream",
     "text": [
      "D:\\Program_Files_Nospace\\Anaconda3\\lib\\site-packages\\bs4\\__init__.py:282: UserWarning: \"http://www.archive.org/details/LovefromaStranger\"\" looks like a URL. Beautiful Soup is not an HTTP client. You should probably use an HTTP client like requests to get the document behind the URL, and feed that document to Beautiful Soup.\n",
      "  ' that document to Beautiful Soup.' % decoded_markup\n",
      "D:\\Program_Files_Nospace\\Anaconda3\\lib\\site-packages\\bs4\\__init__.py:282: UserWarning: \"http://www.loosechangeguide.com/LooseChangeGuide.html\"\" looks like a URL. Beautiful Soup is not an HTTP client. You should probably use an HTTP client like requests to get the document behind the URL, and feed that document to Beautiful Soup.\n",
      "  ' that document to Beautiful Soup.' % decoded_markup\n",
      "D:\\Program_Files_Nospace\\Anaconda3\\lib\\site-packages\\bs4\\__init__.py:219: UserWarning: \"b'... ...'\" looks like a filename, not markup. You should probably open this file and pass the filehandle into Beautiful Soup.\n",
      "  ' Beautiful Soup.' % markup)\n",
      "D:\\Program_Files_Nospace\\Anaconda3\\lib\\site-packages\\bs4\\__init__.py:219: UserWarning: \"b'....'\" looks like a filename, not markup. You should probably open this file and pass the filehandle into Beautiful Soup.\n",
      "  ' Beautiful Soup.' % markup)\n",
      "D:\\Program_Files_Nospace\\Anaconda3\\lib\\site-packages\\bs4\\__init__.py:282: UserWarning: \"http://www.msnbc.msn.com/id/4972055/site/newsweek/\"\" looks like a URL. Beautiful Soup is not an HTTP client. You should probably use an HTTP client like requests to get the document behind the URL, and feed that document to Beautiful Soup.\n",
      "  ' that document to Beautiful Soup.' % decoded_markup\n",
      "D:\\Program_Files_Nospace\\Anaconda3\\lib\\site-packages\\bs4\\__init__.py:219: UserWarning: \"b'..'\" looks like a filename, not markup. You should probably open this file and pass the filehandle into Beautiful Soup.\n",
      "  ' Beautiful Soup.' % markup)\n",
      "D:\\Program_Files_Nospace\\Anaconda3\\lib\\site-packages\\bs4\\__init__.py:282: UserWarning: \"http://www.youtube.com/watch?v=a0KSqelmgN8\"\" looks like a URL. Beautiful Soup is not an HTTP client. You should probably use an HTTP client like requests to get the document behind the URL, and feed that document to Beautiful Soup.\n",
      "  ' that document to Beautiful Soup.' % decoded_markup\n",
      "D:\\Program_Files_Nospace\\Anaconda3\\lib\\site-packages\\bs4\\__init__.py:219: UserWarning: \"b'.. .'\" looks like a filename, not markup. You should probably open this file and pass the filehandle into Beautiful Soup.\n",
      "  ' Beautiful Soup.' % markup)\n",
      "D:\\Program_Files_Nospace\\Anaconda3\\lib\\site-packages\\bs4\\__init__.py:282: UserWarning: \"http://jake-weird.blogspot.com/2007/08/beneath.html\"\" looks like a URL. Beautiful Soup is not an HTTP client. You should probably use an HTTP client like requests to get the document behind the URL, and feed that document to Beautiful Soup.\n",
      "  ' that document to Beautiful Soup.' % decoded_markup\n"
     ]
    }
   ],
   "source": [
    "sentences = []  # Initialize an empty list of sentences\n",
    "\n",
    "# A minor detail to note is the difference between the \"+=\" and \"append\" when it comes to Python lists. \n",
    "# In many applications the two are interchangeable, but here they are not. \n",
    "# If you are appending a list of lists to another list of lists, \"append\" will only append \n",
    "# the first list; you need to use \"+=\" in order to join all of the lists at once.\n",
    "print (\"Parsing sentences from training set\")\n",
    "for review in train[\"review\"]:\n",
    "    sentences += review_to_sentences(review, tokenizer)\n",
    "\n",
    "print (\"Parsing sentences from unlabeled set\")\n",
    "for review in unlabeled_train[\"review\"]:\n",
    "    sentences += review_to_sentences(review, tokenizer)"
   ]
  },
  {
   "cell_type": "markdown",
   "metadata": {},
   "source": [
    "Let us now take a look at the some of the output:"
   ]
  },
  {
   "cell_type": "code",
   "execution_count": 7,
   "metadata": {},
   "outputs": [
    {
     "name": "stdout",
     "output_type": "stream",
     "text": [
      "795538\n",
      "['with', 'all', 'this', 'stuff', 'going', 'down', 'at', 'the', 'moment', 'with', 'mj', 'i', 've', 'started', 'listening', 'to', 'his', 'music', 'watching', 'the', 'odd', 'documentary', 'here', 'and', 'there', 'watched', 'the', 'wiz', 'and', 'watched', 'moonwalker', 'again']\n",
      "['maybe', 'i', 'just', 'want', 'to', 'get', 'a', 'certain', 'insight', 'into', 'this', 'guy', 'who', 'i', 'thought', 'was', 'really', 'cool', 'in', 'the', 'eighties', 'just', 'to', 'maybe', 'make', 'up', 'my', 'mind', 'whether', 'he', 'is', 'guilty', 'or', 'innocent']\n"
     ]
    }
   ],
   "source": [
    "# Check how many sentences we have in total\n",
    "print (len(sentences))\n",
    "\n",
    "# Print some example sentences parsed in list format.\n",
    "print (sentences[0])\n",
    "print (sentences[1])"
   ]
  },
  {
   "cell_type": "markdown",
   "metadata": {},
   "source": [
    "With the list of nicely parsed sentences, we're ready to train the Word2Vec model. We will try using context=5, embedding dimension=100, min_words=40. \n",
    "\n",
    "Be sure to have gensim module installed.\n",
    "\n",
    "Some notes on all parameters below for informative purposes:\n",
    "\n",
    "* Architecture: Architecture options are skip-gram (default) or continuous bag of words.\n",
    "* Training algorithm: Hierarchical softmax (default) or negative sampling.\n",
    "* Downsampling of frequent words: The Google documentation recommends values between .00001 and .001.\n",
    "* Word vector dimensionality: More features result in longer runtimes, and often, but not always, result in better models.\n",
    "* Context / window size: How many words of context should the training algorithm take into account? (more is better, up to a point)\n",
    "* Worker threads: Number of parallel processes to run. This is computer-specific, but between 4 and 6 should work on most systems.\n",
    "* Minimum word count: This helps limit the size of the vocabulary to meaningful words. Any word that does not occur at least this many times across all documents is ignored. Reasonable values could be between 10 and 100."
   ]
  },
  {
   "cell_type": "code",
   "execution_count": 8,
   "metadata": {
    "scrolled": true
   },
   "outputs": [
    {
     "name": "stderr",
     "output_type": "stream",
     "text": [
      "D:\\Program_Files_Nospace\\Anaconda3\\lib\\site-packages\\gensim\\utils.py:860: UserWarning: detected Windows; aliasing chunkize to chunkize_serial\n",
      "  warnings.warn(\"detected Windows; aliasing chunkize to chunkize_serial\")\n",
      "2017-12-11 23:45:17,319 : INFO : 'pattern' package not found; tag filters are not available for English\n",
      "2017-12-11 23:45:17,404 : INFO : collecting all words and their counts\n",
      "2017-12-11 23:45:17,404 : INFO : PROGRESS: at sentence #0, processed 0 words, keeping 0 word types\n",
      "2017-12-11 23:45:17,509 : INFO : PROGRESS: at sentence #10000, processed 225803 words, keeping 17776 word types\n",
      "2017-12-11 23:45:17,584 : INFO : PROGRESS: at sentence #20000, processed 451892 words, keeping 24948 word types\n"
     ]
    },
    {
     "name": "stdout",
     "output_type": "stream",
     "text": [
      "Training model...\n"
     ]
    },
    {
     "name": "stderr",
     "output_type": "stream",
     "text": [
      "2017-12-11 23:45:17,648 : INFO : PROGRESS: at sentence #30000, processed 671314 words, keeping 30034 word types\n",
      "2017-12-11 23:45:17,753 : INFO : PROGRESS: at sentence #40000, processed 897814 words, keeping 34348 word types\n",
      "2017-12-11 23:45:17,818 : INFO : PROGRESS: at sentence #50000, processed 1116962 words, keeping 37761 word types\n",
      "2017-12-11 23:45:17,918 : INFO : PROGRESS: at sentence #60000, processed 1338403 words, keeping 40723 word types\n",
      "2017-12-11 23:45:17,968 : INFO : PROGRESS: at sentence #70000, processed 1561579 words, keeping 43333 word types\n",
      "2017-12-11 23:45:18,066 : INFO : PROGRESS: at sentence #80000, processed 1780886 words, keeping 45714 word types\n",
      "2017-12-11 23:45:18,137 : INFO : PROGRESS: at sentence #90000, processed 2004995 words, keeping 48135 word types\n",
      "2017-12-11 23:45:18,215 : INFO : PROGRESS: at sentence #100000, processed 2226966 words, keeping 50207 word types\n",
      "2017-12-11 23:45:18,269 : INFO : PROGRESS: at sentence #110000, processed 2446580 words, keeping 52081 word types\n",
      "2017-12-11 23:45:18,367 : INFO : PROGRESS: at sentence #120000, processed 2668775 words, keeping 54119 word types\n",
      "2017-12-11 23:45:18,433 : INFO : PROGRESS: at sentence #130000, processed 2894303 words, keeping 55847 word types\n",
      "2017-12-11 23:45:18,525 : INFO : PROGRESS: at sentence #140000, processed 3107005 words, keeping 57346 word types\n",
      "2017-12-11 23:45:18,604 : INFO : PROGRESS: at sentence #150000, processed 3332627 words, keeping 59055 word types\n",
      "2017-12-11 23:45:18,671 : INFO : PROGRESS: at sentence #160000, processed 3555315 words, keeping 60617 word types\n",
      "2017-12-11 23:45:18,718 : INFO : PROGRESS: at sentence #170000, processed 3778655 words, keeping 62077 word types\n",
      "2017-12-11 23:45:18,803 : INFO : PROGRESS: at sentence #180000, processed 3999236 words, keeping 63496 word types\n",
      "2017-12-11 23:45:18,850 : INFO : PROGRESS: at sentence #190000, processed 4224449 words, keeping 64794 word types\n",
      "2017-12-11 23:45:18,944 : INFO : PROGRESS: at sentence #200000, processed 4448603 words, keeping 66087 word types\n",
      "2017-12-11 23:45:18,998 : INFO : PROGRESS: at sentence #210000, processed 4669967 words, keeping 67390 word types\n",
      "2017-12-11 23:45:19,066 : INFO : PROGRESS: at sentence #220000, processed 4894968 words, keeping 68697 word types\n",
      "2017-12-11 23:45:19,127 : INFO : PROGRESS: at sentence #230000, processed 5117545 words, keeping 69958 word types\n",
      "2017-12-11 23:45:19,174 : INFO : PROGRESS: at sentence #240000, processed 5345050 words, keeping 71167 word types\n",
      "2017-12-11 23:45:19,238 : INFO : PROGRESS: at sentence #250000, processed 5559165 words, keeping 72351 word types\n",
      "2017-12-11 23:45:19,308 : INFO : PROGRESS: at sentence #260000, processed 5779146 words, keeping 73478 word types\n",
      "2017-12-11 23:45:19,372 : INFO : PROGRESS: at sentence #270000, processed 6000435 words, keeping 74767 word types\n",
      "2017-12-11 23:45:19,437 : INFO : PROGRESS: at sentence #280000, processed 6226314 words, keeping 76369 word types\n",
      "2017-12-11 23:45:19,495 : INFO : PROGRESS: at sentence #290000, processed 6449474 words, keeping 77839 word types\n",
      "2017-12-11 23:45:19,555 : INFO : PROGRESS: at sentence #300000, processed 6674077 words, keeping 79171 word types\n",
      "2017-12-11 23:45:19,602 : INFO : PROGRESS: at sentence #310000, processed 6899391 words, keeping 80480 word types\n",
      "2017-12-11 23:45:19,682 : INFO : PROGRESS: at sentence #320000, processed 7124278 words, keeping 81808 word types\n",
      "2017-12-11 23:45:19,734 : INFO : PROGRESS: at sentence #330000, processed 7346021 words, keeping 83030 word types\n",
      "2017-12-11 23:45:19,803 : INFO : PROGRESS: at sentence #340000, processed 7575533 words, keeping 84280 word types\n",
      "2017-12-11 23:45:19,850 : INFO : PROGRESS: at sentence #350000, processed 7798803 words, keeping 85425 word types\n",
      "2017-12-11 23:45:19,925 : INFO : PROGRESS: at sentence #360000, processed 8019466 words, keeping 86596 word types\n",
      "2017-12-11 23:45:19,993 : INFO : PROGRESS: at sentence #370000, processed 8246654 words, keeping 87708 word types\n",
      "2017-12-11 23:45:20,053 : INFO : PROGRESS: at sentence #380000, processed 8471801 words, keeping 88878 word types\n",
      "2017-12-11 23:45:20,120 : INFO : PROGRESS: at sentence #390000, processed 8701551 words, keeping 89907 word types\n",
      "2017-12-11 23:45:20,185 : INFO : PROGRESS: at sentence #400000, processed 8924500 words, keeping 90916 word types\n",
      "2017-12-11 23:45:20,234 : INFO : PROGRESS: at sentence #410000, processed 9145850 words, keeping 91880 word types\n",
      "2017-12-11 23:45:20,308 : INFO : PROGRESS: at sentence #420000, processed 9366930 words, keeping 92912 word types\n",
      "2017-12-11 23:45:20,371 : INFO : PROGRESS: at sentence #430000, processed 9594467 words, keeping 93932 word types\n",
      "2017-12-11 23:45:20,437 : INFO : PROGRESS: at sentence #440000, processed 9821218 words, keeping 94906 word types\n",
      "2017-12-11 23:45:20,484 : INFO : PROGRESS: at sentence #450000, processed 10044980 words, keeping 96036 word types\n",
      "2017-12-11 23:45:20,570 : INFO : PROGRESS: at sentence #460000, processed 10277740 words, keeping 97088 word types\n",
      "2017-12-11 23:45:20,633 : INFO : PROGRESS: at sentence #470000, processed 10505665 words, keeping 97933 word types\n",
      "2017-12-11 23:45:20,700 : INFO : PROGRESS: at sentence #480000, processed 10726049 words, keeping 98862 word types\n",
      "2017-12-11 23:45:20,764 : INFO : PROGRESS: at sentence #490000, processed 10952793 words, keeping 99871 word types\n",
      "2017-12-11 23:45:20,821 : INFO : PROGRESS: at sentence #500000, processed 11174449 words, keeping 100765 word types\n",
      "2017-12-11 23:45:20,886 : INFO : PROGRESS: at sentence #510000, processed 11399724 words, keeping 101699 word types\n",
      "2017-12-11 23:45:20,933 : INFO : PROGRESS: at sentence #520000, processed 11623075 words, keeping 102598 word types\n",
      "2017-12-11 23:45:21,020 : INFO : PROGRESS: at sentence #530000, processed 11847473 words, keeping 103400 word types\n",
      "2017-12-11 23:45:21,082 : INFO : PROGRESS: at sentence #540000, processed 12072088 words, keeping 104265 word types\n",
      "2017-12-11 23:45:21,147 : INFO : PROGRESS: at sentence #550000, processed 12297639 words, keeping 105133 word types\n",
      "2017-12-11 23:45:21,202 : INFO : PROGRESS: at sentence #560000, processed 12518929 words, keeping 105997 word types\n",
      "2017-12-11 23:45:21,265 : INFO : PROGRESS: at sentence #570000, processed 12748076 words, keeping 106787 word types\n",
      "2017-12-11 23:45:21,338 : INFO : PROGRESS: at sentence #580000, processed 12969572 words, keeping 107665 word types\n",
      "2017-12-11 23:45:21,387 : INFO : PROGRESS: at sentence #590000, processed 13195097 words, keeping 108501 word types\n",
      "2017-12-11 23:45:21,449 : INFO : PROGRESS: at sentence #600000, processed 13417295 words, keeping 109218 word types\n",
      "2017-12-11 23:45:21,530 : INFO : PROGRESS: at sentence #610000, processed 13638318 words, keeping 110092 word types\n",
      "2017-12-11 23:45:21,587 : INFO : PROGRESS: at sentence #620000, processed 13864643 words, keeping 110837 word types\n",
      "2017-12-11 23:45:21,634 : INFO : PROGRESS: at sentence #630000, processed 14088929 words, keeping 111610 word types\n",
      "2017-12-11 23:45:21,718 : INFO : PROGRESS: at sentence #640000, processed 14309712 words, keeping 112416 word types\n",
      "2017-12-11 23:45:21,768 : INFO : PROGRESS: at sentence #650000, processed 14535468 words, keeping 113196 word types\n",
      "2017-12-11 23:45:21,843 : INFO : PROGRESS: at sentence #660000, processed 14758258 words, keeping 113945 word types\n",
      "2017-12-11 23:45:21,903 : INFO : PROGRESS: at sentence #670000, processed 14981651 words, keeping 114643 word types\n",
      "2017-12-11 23:45:21,955 : INFO : PROGRESS: at sentence #680000, processed 15206483 words, keeping 115354 word types\n",
      "2017-12-11 23:45:22,030 : INFO : PROGRESS: at sentence #690000, processed 15428676 words, keeping 116131 word types\n",
      "2017-12-11 23:45:22,097 : INFO : PROGRESS: at sentence #700000, processed 15657382 words, keeping 116943 word types\n",
      "2017-12-11 23:45:22,163 : INFO : PROGRESS: at sentence #710000, processed 15880371 words, keeping 117596 word types\n",
      "2017-12-11 23:45:22,217 : INFO : PROGRESS: at sentence #720000, processed 16105658 words, keeping 118221 word types\n",
      "2017-12-11 23:45:22,293 : INFO : PROGRESS: at sentence #730000, processed 16332039 words, keeping 118954 word types\n",
      "2017-12-11 23:45:22,334 : INFO : PROGRESS: at sentence #740000, processed 16553072 words, keeping 119668 word types\n"
     ]
    },
    {
     "name": "stderr",
     "output_type": "stream",
     "text": [
      "2017-12-11 23:45:22,403 : INFO : PROGRESS: at sentence #750000, processed 16771399 words, keeping 120295 word types\n",
      "2017-12-11 23:45:22,470 : INFO : PROGRESS: at sentence #760000, processed 16990803 words, keeping 120930 word types\n",
      "2017-12-11 23:45:22,536 : INFO : PROGRESS: at sentence #770000, processed 17217940 words, keeping 121703 word types\n",
      "2017-12-11 23:45:22,604 : INFO : PROGRESS: at sentence #780000, processed 17448086 words, keeping 122402 word types\n",
      "2017-12-11 23:45:22,674 : INFO : PROGRESS: at sentence #790000, processed 17675162 words, keeping 123066 word types\n",
      "2017-12-11 23:45:22,718 : INFO : collected 123504 word types from a corpus of 17798263 raw words and 795538 sentences\n",
      "2017-12-11 23:45:22,719 : INFO : Loading a fresh vocabulary\n",
      "2017-12-11 23:45:22,807 : INFO : min_count=40 retains 16490 unique words (13% of original 123504, drops 107014)\n",
      "2017-12-11 23:45:22,808 : INFO : min_count=40 leaves 17239118 word corpus (96% of original 17798263, drops 559145)\n",
      "2017-12-11 23:45:22,863 : INFO : deleting the raw counts dictionary of 123504 items\n",
      "2017-12-11 23:45:22,868 : INFO : sample=0.001 downsamples 48 most-common words\n",
      "2017-12-11 23:45:22,870 : INFO : downsampling leaves estimated 12749794 word corpus (74.0% of prior 17239118)\n",
      "2017-12-11 23:45:22,872 : INFO : estimated required memory for 16490 words and 100 dimensions: 21437000 bytes\n",
      "2017-12-11 23:45:23,047 : INFO : resetting layer weights\n",
      "2017-12-11 23:45:23,325 : INFO : training model with 4 workers on 16490 vocabulary and 100 features, using sg=0 hs=0 sample=0.001 negative=5 window=5\n",
      "2017-12-11 23:45:24,354 : INFO : PROGRESS: at 1.66% examples, 1044352 words/s, in_qsize 7, out_qsize 0\n",
      "2017-12-11 23:45:25,353 : INFO : PROGRESS: at 3.32% examples, 1044598 words/s, in_qsize 7, out_qsize 0\n",
      "2017-12-11 23:45:26,364 : INFO : PROGRESS: at 4.97% examples, 1043051 words/s, in_qsize 7, out_qsize 0\n",
      "2017-12-11 23:45:27,376 : INFO : PROGRESS: at 6.65% examples, 1045248 words/s, in_qsize 7, out_qsize 0\n",
      "2017-12-11 23:45:28,374 : INFO : PROGRESS: at 8.31% examples, 1047617 words/s, in_qsize 8, out_qsize 0\n",
      "2017-12-11 23:45:29,370 : INFO : PROGRESS: at 9.93% examples, 1046893 words/s, in_qsize 7, out_qsize 0\n",
      "2017-12-11 23:45:30,377 : INFO : PROGRESS: at 11.59% examples, 1048775 words/s, in_qsize 7, out_qsize 0\n",
      "2017-12-11 23:45:31,385 : INFO : PROGRESS: at 13.23% examples, 1048944 words/s, in_qsize 7, out_qsize 0\n",
      "2017-12-11 23:45:32,397 : INFO : PROGRESS: at 14.87% examples, 1047566 words/s, in_qsize 7, out_qsize 0\n",
      "2017-12-11 23:45:33,392 : INFO : PROGRESS: at 16.47% examples, 1044077 words/s, in_qsize 7, out_qsize 0\n",
      "2017-12-11 23:45:34,398 : INFO : PROGRESS: at 18.04% examples, 1040327 words/s, in_qsize 7, out_qsize 0\n",
      "2017-12-11 23:45:35,407 : INFO : PROGRESS: at 19.60% examples, 1036124 words/s, in_qsize 7, out_qsize 0\n",
      "2017-12-11 23:45:36,401 : INFO : PROGRESS: at 21.22% examples, 1036144 words/s, in_qsize 7, out_qsize 0\n",
      "2017-12-11 23:45:37,414 : INFO : PROGRESS: at 22.87% examples, 1035694 words/s, in_qsize 6, out_qsize 1\n",
      "2017-12-11 23:45:38,401 : INFO : PROGRESS: at 24.54% examples, 1037181 words/s, in_qsize 7, out_qsize 0\n",
      "2017-12-11 23:45:39,419 : INFO : PROGRESS: at 26.17% examples, 1036914 words/s, in_qsize 7, out_qsize 0\n",
      "2017-12-11 23:45:40,423 : INFO : PROGRESS: at 27.84% examples, 1037863 words/s, in_qsize 7, out_qsize 0\n",
      "2017-12-11 23:45:41,419 : INFO : PROGRESS: at 29.50% examples, 1038796 words/s, in_qsize 7, out_qsize 0\n",
      "2017-12-11 23:45:42,428 : INFO : PROGRESS: at 31.14% examples, 1039119 words/s, in_qsize 7, out_qsize 0\n",
      "2017-12-11 23:45:43,437 : INFO : PROGRESS: at 32.75% examples, 1038386 words/s, in_qsize 7, out_qsize 0\n",
      "2017-12-11 23:45:44,446 : INFO : PROGRESS: at 34.39% examples, 1038896 words/s, in_qsize 7, out_qsize 0\n",
      "2017-12-11 23:45:45,448 : INFO : PROGRESS: at 36.02% examples, 1038728 words/s, in_qsize 7, out_qsize 0\n",
      "2017-12-11 23:45:46,438 : INFO : PROGRESS: at 37.66% examples, 1039219 words/s, in_qsize 7, out_qsize 0\n",
      "2017-12-11 23:45:47,444 : INFO : PROGRESS: at 39.32% examples, 1039632 words/s, in_qsize 7, out_qsize 0\n",
      "2017-12-11 23:45:48,454 : INFO : PROGRESS: at 40.98% examples, 1040301 words/s, in_qsize 6, out_qsize 1\n",
      "2017-12-11 23:45:49,459 : INFO : PROGRESS: at 42.69% examples, 1041380 words/s, in_qsize 7, out_qsize 0\n",
      "2017-12-11 23:45:50,462 : INFO : PROGRESS: at 44.36% examples, 1041800 words/s, in_qsize 7, out_qsize 0\n",
      "2017-12-11 23:45:51,474 : INFO : PROGRESS: at 46.01% examples, 1042059 words/s, in_qsize 7, out_qsize 0\n",
      "2017-12-11 23:45:52,481 : INFO : PROGRESS: at 47.67% examples, 1042228 words/s, in_qsize 7, out_qsize 0\n",
      "2017-12-11 23:45:53,478 : INFO : PROGRESS: at 49.31% examples, 1042519 words/s, in_qsize 7, out_qsize 0\n",
      "2017-12-11 23:45:54,470 : INFO : PROGRESS: at 50.95% examples, 1042723 words/s, in_qsize 7, out_qsize 0\n",
      "2017-12-11 23:45:55,492 : INFO : PROGRESS: at 52.58% examples, 1042478 words/s, in_qsize 7, out_qsize 0\n",
      "2017-12-11 23:45:56,491 : INFO : PROGRESS: at 54.23% examples, 1042822 words/s, in_qsize 7, out_qsize 0\n",
      "2017-12-11 23:45:57,490 : INFO : PROGRESS: at 55.88% examples, 1043041 words/s, in_qsize 7, out_qsize 0\n",
      "2017-12-11 23:45:58,484 : INFO : PROGRESS: at 57.48% examples, 1042438 words/s, in_qsize 7, out_qsize 0\n",
      "2017-12-11 23:45:59,498 : INFO : PROGRESS: at 59.14% examples, 1042516 words/s, in_qsize 7, out_qsize 0\n",
      "2017-12-11 23:46:00,506 : INFO : PROGRESS: at 60.77% examples, 1042435 words/s, in_qsize 7, out_qsize 0\n",
      "2017-12-11 23:46:01,507 : INFO : PROGRESS: at 62.44% examples, 1042605 words/s, in_qsize 7, out_qsize 0\n",
      "2017-12-11 23:46:02,526 : INFO : PROGRESS: at 63.85% examples, 1038318 words/s, in_qsize 7, out_qsize 0\n",
      "2017-12-11 23:46:03,533 : INFO : PROGRESS: at 65.36% examples, 1036238 words/s, in_qsize 7, out_qsize 0\n",
      "2017-12-11 23:46:04,540 : INFO : PROGRESS: at 67.02% examples, 1036509 words/s, in_qsize 7, out_qsize 0\n",
      "2017-12-11 23:46:05,539 : INFO : PROGRESS: at 68.62% examples, 1036089 words/s, in_qsize 6, out_qsize 1\n",
      "2017-12-11 23:46:06,550 : INFO : PROGRESS: at 70.23% examples, 1035778 words/s, in_qsize 7, out_qsize 0\n",
      "2017-12-11 23:46:07,546 : INFO : PROGRESS: at 71.86% examples, 1036049 words/s, in_qsize 7, out_qsize 0\n",
      "2017-12-11 23:46:08,557 : INFO : PROGRESS: at 73.48% examples, 1035911 words/s, in_qsize 7, out_qsize 0\n",
      "2017-12-11 23:46:09,554 : INFO : PROGRESS: at 75.15% examples, 1036423 words/s, in_qsize 7, out_qsize 0\n",
      "2017-12-11 23:46:10,568 : INFO : PROGRESS: at 76.80% examples, 1036649 words/s, in_qsize 7, out_qsize 0\n",
      "2017-12-11 23:46:11,573 : INFO : PROGRESS: at 78.46% examples, 1037013 words/s, in_qsize 7, out_qsize 0\n",
      "2017-12-11 23:46:12,567 : INFO : PROGRESS: at 80.10% examples, 1037249 words/s, in_qsize 7, out_qsize 0\n",
      "2017-12-11 23:46:13,573 : INFO : PROGRESS: at 81.75% examples, 1037359 words/s, in_qsize 6, out_qsize 1\n",
      "2017-12-11 23:46:14,572 : INFO : PROGRESS: at 83.44% examples, 1037844 words/s, in_qsize 7, out_qsize 0\n",
      "2017-12-11 23:46:15,587 : INFO : PROGRESS: at 85.08% examples, 1037825 words/s, in_qsize 7, out_qsize 0\n",
      "2017-12-11 23:46:16,584 : INFO : PROGRESS: at 86.77% examples, 1038293 words/s, in_qsize 7, out_qsize 0\n",
      "2017-12-11 23:46:17,584 : INFO : PROGRESS: at 88.40% examples, 1038323 words/s, in_qsize 7, out_qsize 0\n",
      "2017-12-11 23:46:18,594 : INFO : PROGRESS: at 90.02% examples, 1038181 words/s, in_qsize 7, out_qsize 0\n",
      "2017-12-11 23:46:19,604 : INFO : PROGRESS: at 91.66% examples, 1038316 words/s, in_qsize 7, out_qsize 0\n",
      "2017-12-11 23:46:20,619 : INFO : PROGRESS: at 93.30% examples, 1038280 words/s, in_qsize 7, out_qsize 0\n",
      "2017-12-11 23:46:21,631 : INFO : PROGRESS: at 94.93% examples, 1038190 words/s, in_qsize 7, out_qsize 0\n",
      "2017-12-11 23:46:22,637 : INFO : PROGRESS: at 96.56% examples, 1037952 words/s, in_qsize 6, out_qsize 1\n",
      "2017-12-11 23:46:23,641 : INFO : PROGRESS: at 98.19% examples, 1037913 words/s, in_qsize 7, out_qsize 0\n",
      "2017-12-11 23:46:24,658 : INFO : PROGRESS: at 99.84% examples, 1038112 words/s, in_qsize 6, out_qsize 1\n",
      "2017-12-11 23:46:24,744 : INFO : worker thread finished; awaiting finish of 3 more threads\n",
      "2017-12-11 23:46:24,766 : INFO : worker thread finished; awaiting finish of 2 more threads\n",
      "2017-12-11 23:46:24,768 : INFO : worker thread finished; awaiting finish of 1 more threads\n",
      "2017-12-11 23:46:24,772 : INFO : worker thread finished; awaiting finish of 0 more threads\n"
     ]
    },
    {
     "name": "stderr",
     "output_type": "stream",
     "text": [
      "2017-12-11 23:46:24,773 : INFO : training on 88991315 raw words (63743061 effective words) took 61.4s, 1037819 effective words/s\n",
      "2017-12-11 23:46:24,775 : INFO : precomputing L2-norms of word weight vectors\n"
     ]
    }
   ],
   "source": [
    "# Import the built-in logging module and configure it so that Word2Vec \n",
    "# creates nice output messages\n",
    "import logging\n",
    "logging.basicConfig(format='%(asctime)s : %(levelname)s : %(message)s',\\\n",
    "    level=logging.INFO)\n",
    "\n",
    "# Set values for various parameters\n",
    "embedding_dimension = 100    # Word vector dimensionality                      \n",
    "min_word_count = 40   # Minimum word count                        \n",
    "num_workers = 4       # Number of threads to run in parallel\n",
    "context = 5          # Context window size                                                                                    \n",
    "downsampling = 1e-3   # Downsample setting for frequent words\n",
    "\n",
    "# Initialize and train the model (this will take some time)\n",
    "from gensim.models import word2vec\n",
    "print (\"Training model...\")\n",
    "model = word2vec.Word2Vec(sentences, workers=num_workers, \\\n",
    "            size=embedding_dimension, min_count = min_word_count, \\\n",
    "            window = context, sample = downsampling)\n",
    "\n",
    "# If you don't plan to train the model any further, calling \n",
    "# init_sims will make the model much more memory-efficient.\n",
    "model.init_sims(replace=True)\n",
    "\n",
    "# It can be helpful to create a meaningful model name and \n",
    "# save the model for later use. You can load it later using Word2Vec.load()\n",
    "model_name = \"100features_40minwords_5context\"\n"
   ]
  },
  {
   "cell_type": "markdown",
   "metadata": {},
   "source": [
    "Now that we have the model, we can optionally save it so that it can be loaded for later use. Let's try it."
   ]
  },
  {
   "cell_type": "code",
   "execution_count": 9,
   "metadata": {},
   "outputs": [
    {
     "name": "stderr",
     "output_type": "stream",
     "text": [
      "2017-12-11 23:46:24,914 : INFO : storing 16490x100 projection weights into 100features_40minwords_5context\n"
     ]
    }
   ],
   "source": [
    "# model.save(model_name) # may be deprecated. See https://groups.google.com/forum/embed/#!topic/gensim/hlYgjqEVocw\n",
    "# See https://groups.google.com/forum/embed/#!topic/gensim/hlYgjqEVocw for why we use the below method to save\n",
    "model.wv.save_word2vec_format(model_name)"
   ]
  },
  {
   "cell_type": "markdown",
   "metadata": {},
   "source": [
    "We will name this model Z1. While we could simply rename the model, let's see whether we can load the saved model under this name instead."
   ]
  },
  {
   "cell_type": "code",
   "execution_count": 10,
   "metadata": {},
   "outputs": [
    {
     "name": "stderr",
     "output_type": "stream",
     "text": [
      "2017-12-11 23:46:25,701 : INFO : loading projection weights from 100features_40minwords_5context\n",
      "2017-12-11 23:46:27,771 : INFO : loaded (16490, 100) matrix from 100features_40minwords_5context\n"
     ]
    },
    {
     "name": "stdout",
     "output_type": "stream",
     "text": [
      "<gensim.models.keyedvectors.KeyedVectors object at 0x0000023723B2D160>\n"
     ]
    }
   ],
   "source": [
    "# We will re-Load the model that we created above under a different name, and assign it the name Z1\n",
    "# (just to show that the model_name = \"100features_40minwords_5context\" that we gave to the model above matters)\n",
    "from gensim import models\n",
    "\n",
    "# The below may be deprecated\n",
    "# model = models.Word2Vec.load(\"100features_40minwords_5context\") # deprecated?\n",
    "\n",
    "# See https://groups.google.com/forum/embed/#!topic/gensim/hlYgjqEVocw for the updated way to load model\n",
    "Z1 = models.KeyedVectors.load_word2vec_format(model_name)\n",
    "print(Z1)"
   ]
  },
  {
   "cell_type": "markdown",
   "metadata": {},
   "source": [
    "Now that we have the Word2Vec model Z1, we will also load another (this time pre-trained) Google word2vec model, downloadable from https://drive.google.com/file/d/0B7XkCwpI5KDYNlNUTTlSS21pQmM/edit, and name the model Z2 for comparison.\n",
    "\n",
    "(Be sure you have downloaded the file before running the below code.)"
   ]
  },
  {
   "cell_type": "code",
   "execution_count": 11,
   "metadata": {},
   "outputs": [
    {
     "name": "stderr",
     "output_type": "stream",
     "text": [
      "2017-12-11 23:46:27,782 : INFO : loading projection weights from GoogleNews-vectors-negative300.bin\n",
      "2017-12-11 23:47:14,187 : INFO : loaded (3000000, 300) matrix from GoogleNews-vectors-negative300.bin\n"
     ]
    }
   ],
   "source": [
    "# Z2 = models.Word2Vec.load_word2vec_format('GoogleNews-vectors-negative300.bin', binary=True) # deprecated\n",
    "Z2 = models.KeyedVectors.load_word2vec_format('GoogleNews-vectors-negative300.bin', binary=True)"
   ]
  },
  {
   "cell_type": "markdown",
   "metadata": {},
   "source": [
    "To access the actual word vectors in each model (Z1 and Z2), we can use the .syn0 attribute. Let's try it."
   ]
  },
  {
   "cell_type": "code",
   "execution_count": 12,
   "metadata": {
    "scrolled": true
   },
   "outputs": [
    {
     "name": "stdout",
     "output_type": "stream",
     "text": [
      "<class 'numpy.ndarray'>\n",
      "[[ 0.10383    -0.193166   -0.060637   ..., -0.093661    0.10813    -0.013873  ]\n",
      " [-0.047408   -0.190431    0.031611   ..., -0.112418   -0.104364   -0.001224  ]\n",
      " [-0.122563   -0.018094   -0.076372   ..., -0.10041     0.170076   -0.054085  ]\n",
      " ..., \n",
      " [-0.014105    0.085763    0.085873   ..., -0.080833   -0.088632    0.050441  ]\n",
      " [-0.089579   -0.169478    0.068326   ..., -0.063105   -0.157755   -0.034911  ]\n",
      " [-0.014685    0.08064     0.19272199 ..., -0.006419    0.104657   -0.097061  ]]\n",
      "<class 'numpy.ndarray'>\n",
      "[[  1.12915039e-03  -8.96453857e-04   3.18527222e-04 ...,  -1.56402588e-03\n",
      "   -1.23023987e-04  -8.63075256e-05]\n",
      " [  7.03125000e-02   8.69140625e-02   8.78906250e-02 ...,  -4.76074219e-02\n",
      "    1.44653320e-02  -6.25000000e-02]\n",
      " [ -1.17797852e-02  -4.73632812e-02   4.46777344e-02 ...,   7.12890625e-02\n",
      "   -3.49121094e-02   2.41699219e-02]\n",
      " ..., \n",
      " [ -1.96533203e-02  -9.08203125e-02  -1.94091797e-02 ...,  -1.63574219e-02\n",
      "   -1.34277344e-02   4.66308594e-02]\n",
      " [  3.27148438e-02  -3.22265625e-02   3.61328125e-02 ...,  -8.85009766e-03\n",
      "    2.69775391e-02   1.90429688e-02]\n",
      " [  4.51660156e-02  -4.51660156e-02  -3.93676758e-03 ...,   7.95898438e-02\n",
      "    7.22656250e-02   1.30004883e-02]]\n"
     ]
    }
   ],
   "source": [
    "print(type(Z1.syn0))\n",
    "print(Z1.syn0)\n",
    "\n",
    "print(type(Z2.syn0))\n",
    "print(Z2.syn0)"
   ]
  },
  {
   "cell_type": "markdown",
   "metadata": {},
   "source": [
    "Let's also compare the shapes of Z1 and Z2. The number of rows in syn0 is the number of words in the model's vocabulary, and the number of columns corresponds to the size of the feature vector. \n",
    "\n",
    "Since we set embedding_dimension=100 and minimum word count to 40 when training Z1, this gave us a total vocabulary of 16,490 words with 100 feature dimensions apiece for Z1. On the other hand, we can see that Z2, the pre-trained model, has a lot more word count (3,000,000). Also, Z2 has more feature dimensions (300) per each word vector."
   ]
  },
  {
   "cell_type": "code",
   "execution_count": 13,
   "metadata": {},
   "outputs": [
    {
     "name": "stdout",
     "output_type": "stream",
     "text": [
      "(16490, 100)\n",
      "(3000000, 300)\n",
      "<class 'numpy.ndarray'>\n"
     ]
    }
   ],
   "source": [
    "print(Z1.syn0.shape)\n",
    "print(Z2.syn0.shape)\n",
    "print(type(Z1.syn0))"
   ]
  },
  {
   "cell_type": "markdown",
   "metadata": {},
   "source": [
    "Individual word vectors can be accessed in the following way:"
   ]
  },
  {
   "cell_type": "code",
   "execution_count": 14,
   "metadata": {
    "scrolled": true
   },
   "outputs": [
    {
     "name": "stdout",
     "output_type": "stream",
     "text": [
      "(100,)\n",
      "(300,)\n",
      "[-0.05361    -0.23726501  0.029005    0.142961    0.069741   -0.246251\n",
      " -0.147167   -0.003953   -0.058661   -0.109174    0.033523    0.077374\n",
      "  0.063918   -0.017038    0.094818    0.074536    0.082149   -0.103084\n",
      " -0.024684    0.113354   -0.127057    0.101311    0.014492    0.093026\n",
      " -0.237022    0.091341    0.023944   -0.087654    0.095167   -0.082826\n",
      "  0.02853     0.035607    0.112977   -0.019871    0.150985    0.166881\n",
      "  0.035903    0.036964   -0.134223   -0.071485   -0.048275   -0.061325\n",
      "  0.068068    0.049736    0.076065   -0.028115   -0.029241   -0.131771\n",
      "  0.14679199  0.018566    0.106289   -0.136793    0.20285299 -0.00585\n",
      "  0.047124    0.07448    -0.027861   -0.002188   -0.111542   -0.048282\n",
      " -0.123842    0.14306299 -0.007149    0.055043    0.020521   -0.00875\n",
      "  0.122092    0.13054299  0.15997     0.128665    0.039715   -0.048452\n",
      "  0.054654    0.073006    0.014196   -0.14986999 -0.167294    0.123016\n",
      " -0.090545    0.041684   -0.02138     0.026111    0.049442   -0.139929\n",
      " -0.180077   -0.070885   -0.003931   -0.031788   -0.045355   -0.21073499\n",
      " -0.102008    0.066052    0.099739    0.0743     -0.015123    0.19702899\n",
      "  0.031061   -0.048241    0.088479    0.012789  ]\n",
      "[ -6.29882812e-02   2.67578125e-01  -5.37109375e-03   2.09960938e-01\n",
      "  -1.27929688e-01  -3.24218750e-01   1.70898438e-01  -2.77343750e-01\n",
      "  -3.45703125e-01   6.29882812e-02   2.13867188e-01  -1.77734375e-01\n",
      "  -3.06396484e-02   2.55859375e-01  -2.08984375e-01  -6.15234375e-02\n",
      "  -1.84570312e-01   9.03320312e-02   1.14746094e-01  -1.64062500e-01\n",
      "  -2.35351562e-01   9.81445312e-02  -4.44335938e-02  -3.90625000e-02\n",
      "   5.66406250e-02   6.98242188e-02  -6.29882812e-02   4.22363281e-02\n",
      "   1.07910156e-01  -1.90429688e-01  -3.26171875e-01  -1.85546875e-01\n",
      "  -1.88476562e-01   1.80664062e-02  -2.79541016e-02  -1.83593750e-01\n",
      "   1.37695312e-01  -1.97265625e-01  -1.33789062e-01   1.90429688e-01\n",
      "   2.60009766e-02  -1.53320312e-01   1.31225586e-02  -6.59179688e-02\n",
      "  -1.06933594e-01  -2.55859375e-01  -3.95507812e-02   2.30712891e-02\n",
      "   6.12792969e-02   1.48437500e-01  -9.81445312e-02   4.12597656e-02\n",
      "   2.40234375e-01   3.49121094e-02  -7.71484375e-02   7.95898438e-02\n",
      "  -6.10351562e-02   4.22363281e-02   4.19921875e-02   4.11987305e-04\n",
      "  -8.25195312e-02  -8.49609375e-02  -2.33398438e-01  -3.93066406e-02\n",
      "  -2.53906250e-01  -2.85156250e-01  -1.30859375e-01  -1.29882812e-01\n",
      "   1.36718750e-01  -1.85546875e-02   3.61328125e-01   1.52343750e-01\n",
      "  -1.36718750e-01  -2.36328125e-01  -1.16699219e-01   1.63085938e-01\n",
      "  -9.91210938e-02  -4.46777344e-02   1.09863281e-01   1.27929688e-01\n",
      "  -9.37500000e-02   3.14941406e-02  -7.71484375e-02  -2.98828125e-01\n",
      "  -2.08984375e-01   3.85742188e-02  -9.33837891e-03  -8.97216797e-03\n",
      "   7.37304688e-02   9.66796875e-02   6.64062500e-02   1.28906250e-01\n",
      "  -2.50000000e-01  -4.39453125e-01  -2.71484375e-01  -4.27246094e-02\n",
      "   1.61132812e-01  -2.03125000e-01   2.13623047e-02  -1.72851562e-01\n",
      "  -1.78710938e-01  -2.13867188e-01   7.91015625e-02  -1.32812500e-01\n",
      "  -2.31445312e-01   1.01562500e-01   5.88378906e-02  -3.60488892e-04\n",
      "  -4.21875000e-01  -3.51562500e-01  -3.24218750e-01  -1.72851562e-01\n",
      "  -3.37890625e-01  -1.09863281e-01   2.05078125e-01  -2.61718750e-01\n",
      "   1.28784180e-02  -1.87500000e-01   5.81054688e-02   7.37304688e-02\n",
      "   1.55273438e-01   1.11816406e-01   1.73828125e-01  -1.71875000e-01\n",
      "   6.64062500e-02   4.15039062e-02  -1.01928711e-02   4.58984375e-02\n",
      "   1.90429688e-01   2.46093750e-01  -1.61132812e-01  -1.14746094e-01\n",
      "   3.75000000e-01  -2.36816406e-02   1.09375000e-01   1.51367188e-01\n",
      "  -4.35546875e-01  -1.80664062e-02   9.42382812e-02  -2.81250000e-01\n",
      "  -1.83593750e-01  -1.77734375e-01  -6.39648438e-02   2.01171875e-01\n",
      "  -4.07714844e-02   2.37304688e-01  -2.84423828e-02   8.59375000e-02\n",
      "  -7.57812500e-01  -2.69531250e-01   3.20312500e-01   2.51953125e-01\n",
      "  -3.24707031e-02   1.90429688e-01   9.32617188e-02  -2.25585938e-01\n",
      "  -9.42382812e-02  -1.27929688e-01   6.10351562e-03   6.00585938e-02\n",
      "  -8.78906250e-02  -7.81250000e-02   1.01074219e-01   8.44726562e-02\n",
      "  -7.47070312e-02   1.95312500e-03   1.72851562e-01  -2.30468750e-01\n",
      "  -2.91015625e-01   7.51953125e-02  -5.07812500e-02   4.71191406e-02\n",
      "  -2.28271484e-02  -2.10937500e-01  -3.49609375e-01  -9.09423828e-03\n",
      "   4.23828125e-01  -2.05078125e-01   3.03955078e-02   7.95898438e-02\n",
      "  -2.63671875e-01  -5.15136719e-02  -1.67968750e-01   4.98046875e-02\n",
      "  -1.29882812e-01  -1.33789062e-01  -6.34765625e-02   1.31835938e-01\n",
      "  -1.84570312e-01   2.81250000e-01  -2.31933594e-02   1.07421875e-01\n",
      "  -2.28515625e-01   1.07910156e-01   1.13281250e-01  -1.38549805e-02\n",
      "   1.41601562e-01  -1.86523438e-01  -2.13867188e-01  -2.12890625e-01\n",
      "  -4.27246094e-02  -1.36718750e-01  -1.68945312e-01  -1.03515625e-01\n",
      "  -1.91406250e-01  -5.81054688e-02   1.19628906e-01   1.73828125e-01\n",
      "   6.49414062e-02   7.86132812e-02  -4.90234375e-01  -3.95507812e-02\n",
      "  -2.44140625e-01  -8.30078125e-02   1.86523438e-01  -9.66796875e-02\n",
      "  -1.17675781e-01  -3.17382812e-02   2.96875000e-01   2.79296875e-01\n",
      "   1.66992188e-01   1.37329102e-02  -1.23901367e-02  -6.39648438e-02\n",
      "   2.56347656e-03   1.25732422e-02   7.71484375e-02  -7.08007812e-02\n",
      "   1.52343750e-01   1.74804688e-01  -2.75390625e-01  -1.59179688e-01\n",
      "  -2.83203125e-01   4.16015625e-01  -1.64062500e-01  -4.15039062e-02\n",
      "   8.91113281e-03  -1.33789062e-01   3.06640625e-01  -1.69921875e-01\n",
      "   4.44335938e-02  -2.16796875e-01  -2.14843750e-01  -3.66210938e-02\n",
      "  -3.08837891e-02  -7.95898438e-02  -1.97265625e-01  -1.84570312e-01\n",
      "   2.69531250e-01   3.11279297e-02  -1.47460938e-01  -1.24023438e-01\n",
      "   2.94921875e-01   1.85546875e-02  -1.44653320e-02  -1.34765625e-01\n",
      "  -4.95605469e-02  -8.69140625e-02  -2.42187500e-01   1.74804688e-01\n",
      "  -6.98242188e-02   1.38671875e-01  -3.49609375e-01  -1.59912109e-02\n",
      "   1.32812500e-01   2.25585938e-01  -7.91015625e-02   2.05078125e-01\n",
      "  -1.17675781e-01   4.85839844e-02   8.34960938e-02   1.33789062e-01\n",
      "  -3.93066406e-02   5.71289062e-02   3.33984375e-01  -4.80957031e-02\n",
      "  -1.88476562e-01   8.93554688e-02   4.68750000e-02   2.16796875e-01\n",
      "   4.34570312e-02   2.38281250e-01   2.67578125e-01  -1.03759766e-02\n",
      "  -4.97436523e-03  -2.14843750e-01  -8.39843750e-02  -8.83789062e-02\n",
      "  -1.39648438e-01   5.35156250e-01  -9.27734375e-02   3.75976562e-02\n",
      "   2.92968750e-02  -1.51367188e-01   1.98974609e-02   1.63085938e-01\n",
      "  -4.76074219e-02   6.03027344e-02   1.81640625e-01   2.26562500e-01]\n"
     ]
    }
   ],
   "source": [
    "print(Z1['flower'].shape)\n",
    "print(Z2['flower'].shape)\n",
    "print(Z1[\"flower\"])\n",
    "print(Z2[\"flower\"])"
   ]
  },
  {
   "cell_type": "markdown",
   "metadata": {},
   "source": [
    "We can also access all the vocabulary words in the model by invoking model.vocab or model.index2word as shown below.\n",
    "If we want to check whether a specific word is in the model, lookup is pretty simple.\n",
    "\n",
    "Note that model.index2word contains a list of words in the same corresponding order as model.syn0, the word vectors."
   ]
  },
  {
   "cell_type": "code",
   "execution_count": 15,
   "metadata": {
    "scrolled": true
   },
   "outputs": [
    {
     "name": "stdout",
     "output_type": "stream",
     "text": [
      "<class 'list'>\n",
      "<class 'dict'>\n",
      "['the', 'and', 'a', 'of', 'to', 'is', 'it', 'in', 'i', 'this']\n",
      "True\n",
      "['</s>', 'in', 'for', 'that', 'is', 'on', '##', 'The', 'with', 'said']\n",
      "True\n"
     ]
    }
   ],
   "source": [
    "print(type(Z1.index2word))\n",
    "print(type(Z1.vocab))\n",
    "\n",
    "print(Z1.index2word[:10])\n",
    "print('queen' in Z1.vocab.keys())\n",
    "\n",
    "print(Z2.index2word[:10])\n",
    "print('queen' in Z2.vocab.keys())"
   ]
  },
  {
   "cell_type": "markdown",
   "metadata": {},
   "source": [
    "Just for demonstrative purposes, here are some built-in methods we can run on the models."
   ]
  },
  {
   "cell_type": "code",
   "execution_count": 16,
   "metadata": {
    "scrolled": true
   },
   "outputs": [
    {
     "name": "stderr",
     "output_type": "stream",
     "text": [
      "2017-12-11 23:47:21,962 : INFO : precomputing L2-norms of word weight vectors\n",
      "2017-12-11 23:47:27,172 : INFO : precomputing L2-norms of word weight vectors\n"
     ]
    },
    {
     "name": "stdout",
     "output_type": "stream",
     "text": [
      "[('horrible', 0.8357001543045044), ('terrible', 0.8328368663787842), ('atrocious', 0.8239460587501526), ('horrendous', 0.7926422357559204), ('abysmal', 0.7923781275749207), ('dreadful', 0.791000485420227), ('horrid', 0.7667386531829834), ('appalling', 0.7579952478408813), ('laughable', 0.72221440076828), ('bad', 0.7015225291252136)]\n",
      "[('wonderful', 0.8436251878738403), ('fantastic', 0.8372352123260498), ('terrific', 0.8307784795761108), ('fine', 0.7884525060653687), ('good', 0.7661899328231812), ('superb', 0.7514241933822632), ('brilliant', 0.7448533773422241), ('marvelous', 0.7355630993843079), ('fabulous', 0.6920579671859741), ('excellent', 0.6858861446380615)]\n",
      "[('horrible', 0.7597668170928955), ('terrible', 0.7478911876678467), ('dreadful', 0.7218177318572998), ('horrendous', 0.6970030069351196), ('horrid', 0.6720176935195923), ('atrocious', 0.6626646518707275), ('ugly', 0.6236302852630615), ('lousy', 0.6135217547416687), ('god_awful', 0.6096222400665283), ('abysmal', 0.6076565384864807)]\n",
      "[('terrific', 0.798933207988739), ('fantastic', 0.7935211658477783), ('tremendous', 0.7748855948448181), ('wonderful', 0.7647868394851685), ('good', 0.7291510105133057), ('incredible', 0.7032873630523682), ('marvelous', 0.6971103549003601), ('phenomenal', 0.6841564774513245), ('amazing', 0.6634128093719482), ('awesome', 0.6510506868362427)]\n",
      "[('leader', 0.5268653631210327), ('gentleman', 0.5248656272888184), ('businessman', 0.524127185344696), ('thief', 0.5170789957046509), ('outlaw', 0.5170093774795532), ('formerly', 0.5115855932235718)]\n",
      "[('prostitute', 0.6391170620918274), ('socialite', 0.6075625419616699), ('spinster', 0.601759672164917), ('nurse', 0.5871806740760803), ('widow', 0.5754765868186951), ('housewife', 0.573314905166626)]\n",
      "[('millionaire', 0.40357235074043274), ('wealthiest', 0.40289992094039917), ('obscenely_wealthy', 0.39425045251846313), ('moneyman', 0.3880004286766052), ('Laurance_Rockefeller', 0.38214075565338135), ('Vincent_Tchenguiz', 0.3755283057689667)]\n",
      "[('ultrawealthy', 0.38160139322280884), ('Janna_Bullock', 0.37699753046035767), ('businesswoman', 0.3692375719547272), ('uppercrust', 0.3509927988052368), ('de_Polignac', 0.349944531917572), ('Mabel_Dodge_Luhan', 0.3485260605812073)]\n",
      "kitchen\n",
      "berlin\n",
      "austria\n",
      "kitchen\n",
      "berlin\n",
      "austria\n"
     ]
    }
   ],
   "source": [
    "# Prints the top 10 (by default) words that the model deems most similar to the given word parameter. Compare Z1 and Z2.\n",
    "print(Z1.most_similar(\"awful\"))\n",
    "print(Z1.most_similar(\"great\"))\n",
    "print(Z2.most_similar(\"awful\"))\n",
    "print(Z2.most_similar(\"great\"))\n",
    "\n",
    "# Prints the top 6 (notice the topn=6 parameter) words that are at once similar to the list of positive parameter words,\n",
    "# and dissimilar to the list of negative parameter words.\n",
    "print(Z1.most_similar(positive=['man', 'wealthy'], negative=['woman', 'poor'], topn=6))\n",
    "print(Z1.most_similar(positive=['woman', 'wealthy'], negative=['man', 'poor'], topn=6))\n",
    "print(Z2.most_similar(positive=['man', 'wealthy'], negative=['woman', 'poor'], topn=6))\n",
    "print(Z2.most_similar(positive=['woman', 'wealthy'], negative=['man', 'poor'], topn=6))\n",
    "\n",
    "# Prints the one word out of the parameter list that is most dissimilar to the others.\n",
    "print(Z1.doesnt_match([\"man\", \"woman\", \"child\", \"kitchen\"]))\n",
    "print(Z1.doesnt_match(\"france england germany berlin\".split()))\n",
    "print(Z1.doesnt_match(\"paris berlin london austria\".split()))\n",
    "print(Z2.doesnt_match([\"man\", \"woman\", \"child\", \"kitchen\"]))\n",
    "print(Z2.doesnt_match(\"france england germany berlin\".split()))\n",
    "print(Z2.doesnt_match(\"paris berlin london austria\".split()))"
   ]
  },
  {
   "cell_type": "markdown",
   "metadata": {},
   "source": [
    "Now that we have the word2vec models Z1 and Z2, we will use K-Means clustering to exploit the semantic similarity of words. Grouping vectors in this way is known as \"vector quantization.\"\n",
    "\n",
    "In K-Means, the one parameter we need to set is \"K,\" or the number of clusters. How should we decide how many clusters to create? Many clusters of small sizes (with relatively few words per cluster) tend to give better results than using a few clusters of large sizes (with a lot of words per cluster).\n",
    "\n",
    "For our experiment, we will set num_clusters for each Word2Vec model to equal the following:\n",
    "\n",
    "(num of words in model) / 5\n",
    "\n",
    "We begin by defining a method to run the clustering."
   ]
  },
  {
   "cell_type": "code",
   "execution_count": 17,
   "metadata": {
    "collapsed": true
   },
   "outputs": [],
   "source": [
    "from sklearn.cluster import KMeans\n",
    "import time\n",
    "\n",
    "def k_means_cluster(num_clusters, word_vectors):\n",
    "    start = time.time() # Start time\n",
    "\n",
    "    # Initalize a k-means object and use it to extract centroids\n",
    "    kmeans_clustering = KMeans( n_clusters = num_clusters )\n",
    "\n",
    "    # run clustering\n",
    "    print(\"Running .fit_predict()...\")\n",
    "    idx = kmeans_clustering.fit_predict( word_vectors )\n",
    "\n",
    "    # Get the end time and print how long the process took\n",
    "    end = time.time()\n",
    "    elapsed = end - start\n",
    "    print (\"Time taken for K Means clustering: \", elapsed, \"seconds.\")\n",
    "    return idx"
   ]
  },
  {
   "cell_type": "markdown",
   "metadata": {},
   "source": [
    "Before we invoke the above method, we will first reduce the size of word vectors in Z2 by filtering out the words in Z2 that are not contained in Z1. This is for efficiency, at the possible cost of losing out on some accuracy when predicting using the Z2 model."
   ]
  },
  {
   "cell_type": "code",
   "execution_count": 18,
   "metadata": {},
   "outputs": [
    {
     "name": "stdout",
     "output_type": "stream",
     "text": [
      "15181\n",
      "15181\n"
     ]
    }
   ],
   "source": [
    "# Let's filter out the words from Z2 that are not in Z1 for efficiency\n",
    "\n",
    "# Helper method to see if two vectors are equal or not\n",
    "def areEqual(v1, v2):\n",
    "    if len(v1) != len(v2):\n",
    "        return False\n",
    "    for i in range(len(v1)):\n",
    "        if v1[i] != v2[i]:\n",
    "            return False\n",
    "    return True\n",
    "\n",
    "# This uses Z2[word] to look up corresponding vector for a word instead of using syn0 and index2word as we did above\n",
    "z1_vocab_keys_set = set(Z1.vocab.keys())  # convert set of words in Z1 into a set for efficiency when performing lookup\n",
    "z2_index2word_list = Z2.index2word        # this is a list of words in Z2 corresponding to Z2's word vectors (Z2.syn0).\n",
    "\n",
    "# Initialize filtered lists for vectors (syn0) and words themselves (index2word)\n",
    "z2_syn0_filtered = []\n",
    "z2_index2word_filtered = []\n",
    "\n",
    "# Go thru each word in Z2, and add only filtered words to theh above lists.\n",
    "for i in range(len(z2_index2word_list)):\n",
    "    word = z2_index2word_list[i]\n",
    "    if word in z1_vocab_keys_set:  # Is this word contained in Z1? If so add to filtered list\n",
    "        z2_corresponding_vector = Z2[word]           # this is one way to look up corresponding word vector\n",
    "        z2_corresponding_vector_doublecheck = Z2.syn0[i]  # this is a second way\n",
    "        # for sanity, let's check the two vectors obtained above are the same\n",
    "        assert areEqual(z2_corresponding_vector, z2_corresponding_vector_doublecheck)\n",
    "        z2_syn0_filtered.append(z2_corresponding_vector) # add the word vector to list\n",
    "        z2_index2word_filtered.append(word)              # add the corresponding word string to list\n",
    "\n",
    "# Testing. The length below should be equal.\n",
    "print(len(z2_syn0_filtered))\n",
    "print(len(z2_index2word_filtered))"
   ]
  },
  {
   "cell_type": "markdown",
   "metadata": {},
   "source": [
    "Now that we have a filtered list of words and word vectors for Z2, let's do some sanity checks..."
   ]
  },
  {
   "cell_type": "code",
   "execution_count": 19,
   "metadata": {},
   "outputs": [
    {
     "name": "stdout",
     "output_type": "stream",
     "text": [
      "['in', 'for', 'that', 'is', 'on', 'with', 'said', 'was', 'the', 'at', 'not', 'as', 'it', 'be', 'from', 'by', 'are', 'have', 'he', 'will', 'has', 'his', 'an', 'this', 'or', 'their', 'who', 'they', 'but', 'had', 'year', 'were', 'we', 'more', 'up', 'been', 'you', 'its', 'one', 'about', 'would', 'which', 'out', 'can', 'all', 'also', 'two', 'after', 'first', 'do', 'time', 'than', 'when', 'over', 'last', 'new', 'other', 'her', 'people', 'into', 'our', 'there', 'she', 'could', 'just', 'years', 'some', 'three', 'million', 'them', 'what', 'so', 'no', 'like', 'if', 'only', 'percent', 'get', 'did', 'him', 'game', 'back', 'because', 'now', 'before', 'company', 'any', 'team', 'against', 'off', 'most', 'made', 'through', 'make', 'second', 'state', 'well', 'day', 'season', 'says']\n",
      "['</s>', 'in', 'for', 'that', 'is', 'on', '##', 'The', 'with', 'said', 'was', 'the', 'at', 'not', 'as', 'it', 'be', 'from', 'by', 'are', 'I', 'have', 'he', 'will', 'has', '####', 'his', 'an', 'this', 'or', 'their', 'who', 'they', 'but', '$', 'had', 'year', 'were', 'we', 'more', '###', 'up', 'been', 'you', 'its', 'one', 'about', 'would', 'which', 'out', 'can', 'It', 'all', 'also', 'two', 'after', 'first', 'He', 'do', 'time', 'than', 'when', 'We', 'over', 'last', 'new', 'other', 'her', 'people', 'into', 'In', 'our', 'there', 'A', 'she', 'could', 'just', 'years', 'some', 'U.S.', 'three', 'million', 'them', 'what', 'But', 'so', 'no', 'like', 'if', 'only', 'percent', 'get', 'did', 'him', 'game', 'back', 'because', 'now', '#.#', 'before']\n",
      "15181\n",
      "3000000\n",
      "\n",
      "15181\n",
      "3000000\n",
      "\n",
      "300\n",
      "300\n"
     ]
    }
   ],
   "source": [
    "# Remember, Z2.syn0 is a list of word vectors. Z2.index2word is a list of words corresponding to those vectors.\n",
    "# z2_syn0_filtered is a filtered version of Z2.syn0, containing only word vectors that exist in Z1.\n",
    "# z2_index2word_filtered is a filterd version of Z2.index2word, containing only words that exist in Z1.\n",
    "\n",
    "# Notice that z2_index2word_filtered maintains the same word ordering as Z2.index2word, except the former has some words\n",
    "# filtered out and is thus much smaller in length.\n",
    "print(z2_index2word_filtered[:100])\n",
    "print(Z2.index2word[:100])\n",
    "print(len(z2_index2word_filtered))\n",
    "print(len(Z2.index2word))\n",
    "print()\n",
    "\n",
    "# Likewise, z2_syn0_filtered is smaller in length than Z2.syn0\n",
    "print(len(z2_syn0_filtered))\n",
    "print(len(Z2.syn0))\n",
    "print()\n",
    "\n",
    "# We confirm that, just like Z2.syn0, each word vector in z2_syn0_filtered has 300 features.\n",
    "print(len(z2_syn0_filtered[0]))\n",
    "print(len(Z2.syn0[0]))"
   ]
  },
  {
   "cell_type": "markdown",
   "metadata": {},
   "source": [
    "Now that we filtered out words in Z2 for efficiency, we're ready to invoke the custom method k_means_cluster() for both Z1 and Z2."
   ]
  },
  {
   "cell_type": "code",
   "execution_count": 20,
   "metadata": {},
   "outputs": [
    {
     "name": "stdout",
     "output_type": "stream",
     "text": [
      "Running .fit_predict()...\n",
      "Time taken for K Means clustering:  262.94411277770996 seconds.\n",
      "Running .fit_predict()...\n",
      "Time taken for K Means clustering:  756.9143874645233 seconds.\n"
     ]
    }
   ],
   "source": [
    "# Invoke the custom method k_means_cluster\n",
    "idx_z1 = k_means_cluster(num_clusters = int(Z1.syn0.shape[0] / 5), word_vectors = Z1.syn0)\n",
    "idx_z2 = k_means_cluster(num_clusters = int(len(z2_syn0_filtered) / 5), word_vectors = z2_syn0_filtered)"
   ]
  },
  {
   "cell_type": "markdown",
   "metadata": {},
   "source": [
    "The cluster assignment for each word is now stored in idx_z1 and idx_z2, and the vocabulary from our original Word2Vec model is still stored in {model}.index2word. For convenience, we zip these into one dictionary as follows:"
   ]
  },
  {
   "cell_type": "code",
   "execution_count": 21,
   "metadata": {},
   "outputs": [
    {
     "name": "stdout",
     "output_type": "stream",
     "text": [
      "16490\n",
      "15181\n"
     ]
    }
   ],
   "source": [
    "# Create a Word / Index dictionary, mapping each vocabulary word to a cluster number\n",
    "word_centroid_map_z1 = dict(zip( Z1.index2word, idx_z1 ))           # use original .index2word for Z1\n",
    "word_centroid_map_z2 = dict(zip( z2_index2word_filtered, idx_z2 ))  # use filtered version for Z2\n",
    "\n",
    "# word_centroid_map_z1 and word_centroid_map_z2 are dictionaries with words as key and cluster index as value\n",
    "print(len(word_centroid_map_z1))\n",
    "print(len(word_centroid_map_z2))"
   ]
  },
  {
   "cell_type": "markdown",
   "metadata": {},
   "source": [
    "This is a little abstract, so let's take a closer look at what our clusters contain. Here is a loop that prints out the words for just 10 clusters, indexed 0 through 9."
   ]
  },
  {
   "cell_type": "code",
   "execution_count": 22,
   "metadata": {
    "collapsed": true
   },
   "outputs": [],
   "source": [
    "def print_cluster(centroid_map, n = 10):\n",
    "    # Convert the dictionary keys and values into list\n",
    "    map_key_list = list(centroid_map.keys())\n",
    "    map_idx_list = list(centroid_map.values())\n",
    "    print (\"map_key_list length: {}\".format(len(map_key_list)))\n",
    "    \n",
    "    total_words = 0\n",
    "    # For the first n clusters\n",
    "    for cluster in range(0,n):\n",
    "        # Print the cluster number  \n",
    "        print (\"\\nCluster {}:\".format(cluster))\n",
    "        \n",
    "        # Find all of the words for that cluster number, and print them out\n",
    "        words = []\n",
    "        for i in range(0,len(map_idx_list)):\n",
    "            if( map_idx_list[i] == cluster ):\n",
    "                words.append(map_key_list[i])\n",
    "        print (words)\n",
    "        total_words += len(words)"
   ]
  },
  {
   "cell_type": "code",
   "execution_count": 23,
   "metadata": {
    "scrolled": true
   },
   "outputs": [
    {
     "name": "stdout",
     "output_type": "stream",
     "text": [
      "map_key_list length: 16490\n",
      "\n",
      "Cluster 0:\n",
      "['singer', 'musician', 'consummate', 'rapper', 'jolson', 'thespian', 'prima', 'songwriter']\n",
      "\n",
      "Cluster 1:\n",
      "['radiation', 'stink', 'doomsday']\n",
      "\n",
      "Cluster 2:\n",
      "['avoiding', 'sacrificing', 'defeating', 'mutilation', 'inventing', 'indulging', 'analyzing']\n",
      "\n",
      "Cluster 3:\n",
      "['values', 'design', 'designer', 'designs']\n",
      "\n",
      "Cluster 4:\n",
      "['largest', 'hail', 'mumbai', 'continental', 'confinement']\n",
      "\n",
      "Cluster 5:\n",
      "['rob', 'ward', 'pete', 'banks', 'bryan', 'roland', 'rookie', 'wheeler', 'pigeon', 'atwill', 'kolchak', 'lyle', 'perennial', 'menjou', 'heath', 'ricardo', 'keach', 'ledger', 'grizzled', 'rizzo']\n",
      "\n",
      "Cluster 6:\n",
      "['equipment', 'resources', 'tools', 'positions']\n",
      "\n",
      "Cluster 7:\n",
      "['superiority', 'peer', 'abuses', 'eliminating', 'dominance']\n",
      "\n",
      "Cluster 8:\n",
      "['agree', 'bother', 'disagree']\n",
      "\n",
      "Cluster 9:\n",
      "['suspended', 'dangling']\n"
     ]
    }
   ],
   "source": [
    "print_cluster(word_centroid_map_z1, n = 10)"
   ]
  },
  {
   "cell_type": "code",
   "execution_count": 24,
   "metadata": {
    "scrolled": true
   },
   "outputs": [
    {
     "name": "stdout",
     "output_type": "stream",
     "text": [
      "map_key_list length: 15181\n",
      "\n",
      "Cluster 0:\n",
      "['inappropriate', 'insulting', 'disrespectful', 'insensitive', 'degrading', 'sexist', 'unprofessional', 'demeaning']\n",
      "\n",
      "Cluster 1:\n",
      "['are', 'have', 'were', 'more', 'other', 'some', 'most', 'many', 'those', 'such', 'these', 'number', 'ones', 'fewer', 'handful', 'bunch', 'newer', 'batch', 'rash']\n",
      "\n",
      "Cluster 2:\n",
      "['anne', 'marie', 'donna', 'claire']\n",
      "\n",
      "Cluster 3:\n",
      "['name', 'powers', 'expression', 'tag', 'trademark', 'interference', 'domain', 'realm', 'exploits', 'plague', 'doom', 'menace', 'dreaded', 'mantle', 'pesky', 'quasi', 'stealth', 'spawn', 'pseudo', 'clutches', 'phantom', 'ilk', 'realms', 'warts', 'retard', 'invisibility', 'terminator', 'snoopy', 'cinderella']\n",
      "\n",
      "Cluster 4:\n",
      "['ho', 'soo', 'hee', 'chan', 'ju', 'gi', 'chun', 'yun', 'hong', 'yul', 'wook', 'duk']\n",
      "\n",
      "Cluster 5:\n",
      "['mushy', 'sappy', 'cloying', 'syrupy', 'saccharine', 'maudlin', 'schmaltzy', 'tearjerker']\n",
      "\n",
      "Cluster 6:\n",
      "['expected', 'likely', 'expect', 'scheduled', 'expects', 'unlikely', 'anticipated', 'predicted', 'projected', 'expecting', 'slated', 'anticipate']\n",
      "\n",
      "Cluster 7:\n",
      "['pants', 'jacket', 'coat', 'jeans', 'shorts', 'collar', 'trousers']\n",
      "\n",
      "Cluster 8:\n",
      "['studying', 'examine', 'reviewing', 'examined', 'examining', 'analyzing', 'researching']\n",
      "\n",
      "Cluster 9:\n",
      "['destruction', 'devastation', 'carnage', 'horrors', 'bloodbath']\n"
     ]
    }
   ],
   "source": [
    "print_cluster(word_centroid_map_z2, n = 10)"
   ]
  },
  {
   "cell_type": "markdown",
   "metadata": {},
   "source": [
    "Now we have a cluster (or \"centroid\") assignment for each word in each model Z1 and Z2, and we can define a function to convert reviews into bags-of-centroids. This works just like Bag of Words but uses semantically related clusters instead of individual words:"
   ]
  },
  {
   "cell_type": "code",
   "execution_count": 25,
   "metadata": {
    "collapsed": true
   },
   "outputs": [],
   "source": [
    "def create_bag_of_centroids( wordlist, word_centroid_map ):\n",
    "    # The total number of clusters is equal to the highest cluster index\n",
    "    # in the word / centroid map\n",
    "    num_centroids = max( word_centroid_map.values() ) + 1\n",
    "    #\n",
    "    # Pre-allocate the bag of centroids vector (for speed)\n",
    "    bag_of_centroids = np.zeros( num_centroids, dtype=\"float32\" )\n",
    "    #\n",
    "    # Loop over the words in the review. If the word is in the vocabulary,\n",
    "    # find which cluster it belongs to, and increment that cluster count \n",
    "    # by one\n",
    "    for word in wordlist:\n",
    "        if word in word_centroid_map:\n",
    "            index = word_centroid_map[word]\n",
    "            bag_of_centroids[index] += 1\n",
    "    #\n",
    "    # Return the \"bag of centroids\"\n",
    "    return bag_of_centroids"
   ]
  },
  {
   "cell_type": "markdown",
   "metadata": {},
   "source": [
    "The function above will give us a numpy array for each review, each with a number of features equal to the number of clusters. Finally, we create bags of centroids for our training and test set."
   ]
  },
  {
   "cell_type": "code",
   "execution_count": 26,
   "metadata": {
    "collapsed": true
   },
   "outputs": [],
   "source": [
    "import numpy as np\n",
    "def create_centroids_per_review(word_centroid_map, clean_reviews, num_clusters):\n",
    "    \n",
    "    # Pre-allocate a 2D array for the training set bags of centroids (for speed)\n",
    "    centroids = np.zeros( (len(clean_reviews), num_clusters), dtype=\"float32\" )\n",
    "\n",
    "    # Transform the reviews into bags of centroids\n",
    "    counter = 0\n",
    "    for review in clean_reviews:\n",
    "        centroids[counter] = create_bag_of_centroids( review, word_centroid_map )\n",
    "        counter += 1\n",
    "    return centroids"
   ]
  },
  {
   "cell_type": "markdown",
   "metadata": {},
   "source": [
    "Prior to calling the above method, we prepare the training and testing set via invoking the review_to_wordlist() method we defined earlier."
   ]
  },
  {
   "cell_type": "code",
   "execution_count": 27,
   "metadata": {
    "collapsed": true
   },
   "outputs": [],
   "source": [
    "# First create lists of words per review in train and testing set. Notice we only use the labeled training set \n",
    "# (not the unlabeled training set) here, although our Word2Vec model Z1 is based on both labeled and unlabeled set.\n",
    "# This is because when performing the training, we need the labels.\n",
    "clean_train_reviews = []\n",
    "for review in train[\"review\"]:\n",
    "    # Recall review_to_wordlist() custom function we created previously\n",
    "    clean_train_reviews.append( review_to_wordlist( review, \\\n",
    "        remove_stopwords=True ))\n",
    "\n",
    "clean_test_reviews = []\n",
    "for review in test[\"review\"]:\n",
    "    clean_test_reviews.append( review_to_wordlist( review, \\\n",
    "        remove_stopwords=True ))"
   ]
  },
  {
   "cell_type": "markdown",
   "metadata": {},
   "source": [
    "We will now create the bags of centroids and assign them to X1 / X2 / X1_test / X2_test, using the appropriate word centroid map and train / test reviews."
   ]
  },
  {
   "cell_type": "code",
   "execution_count": 28,
   "metadata": {
    "collapsed": true
   },
   "outputs": [],
   "source": [
    "# Use word_centroid_map_z1 and clean_train_reviews to train X1, a 2D array of centroids\n",
    "# Follow same steps for X1_test, X2, and X2_test\n",
    "# Recall we originally used num_clusters = int(word_vectors_z1.shape[0] / 5) for Z1, \n",
    "X1      = create_centroids_per_review(word_centroid_map_z1, clean_train_reviews, int(Z1.syn0.shape[0] / 5))\n",
    "X1_test = create_centroids_per_review(word_centroid_map_z1, clean_test_reviews, int(Z1.syn0.shape[0] / 5))\n",
    "X2      = create_centroids_per_review(word_centroid_map_z2, clean_train_reviews, int(len(z2_syn0_filtered) / 5))\n",
    "X2_test = create_centroids_per_review(word_centroid_map_z2, clean_test_reviews, int(len(z2_syn0_filtered) / 5))"
   ]
  },
  {
   "cell_type": "code",
   "execution_count": 29,
   "metadata": {},
   "outputs": [
    {
     "name": "stdout",
     "output_type": "stream",
     "text": [
      "(25000, 3298)\n",
      "(25000, 3298)\n",
      "(25000, 3036)\n",
      "(25000, 3036)\n"
     ]
    }
   ],
   "source": [
    "print(X1.shape)\n",
    "print(X1_test.shape)\n",
    "print(X2.shape)\n",
    "print(X2_test.shape)"
   ]
  },
  {
   "cell_type": "markdown",
   "metadata": {},
   "source": [
    "We have saved X1, X1_test, X2, X2_test for part 3. For now let's go on to part 2."
   ]
  },
  {
   "cell_type": "markdown",
   "metadata": {},
   "source": [
    "### Part 2. Topic Modeling\n",
    "In this part, we will do the following:\n",
    "\n",
    "a. Perform LDA topic modeling on your training set with ntopics=10. Featurize each movie post by its topic composition. We'll call this representation X3.\n",
    "\n",
    "b. Repeat part (a) with ntopics=20 (this will be X4).\n",
    "\n",
    "c. Print top 10 words with highest probabilities for each topic.\n",
    "\n",
    "d. Train your LDA models with training data and produce X3, X4; use the trained LDA models to transform unseen test data and produce X3_test, X4_test. Save them for Part 3.\n",
    "\n",
    "e. Print top 10 words with highest probabilities for each topic."
   ]
  },
  {
   "cell_type": "markdown",
   "metadata": {},
   "source": [
    "<b>Note:</b> For LDA topic modeling, we will use sklearn.decomposition.LatentDirichletAllocation.\n",
    "\n",
    "In order to use sklearn LDA, we will first use CountVectorizer (sklearn.feature_extraction.text.CountVectorizer) to convert the reviews into a bag-of-words representation.\n",
    "\n",
    "Recall that we already have cleaned-up versions of the training and test reviews from Part 1 (clean_train_reviews and clean_test_reviews); in this section, we will modify them slightly so that we can pass them as parameters to CountVectorizer."
   ]
  },
  {
   "cell_type": "code",
   "execution_count": 30,
   "metadata": {
    "scrolled": true
   },
   "outputs": [
    {
     "name": "stdout",
     "output_type": "stream",
     "text": [
      "Printing out an element from clean_train_reviews and clean_test_reviews to verify that they're lists of words:\n",
      "['stuff', 'going', 'moment', 'mj', 'started', 'listening', 'music', 'watching', 'odd', 'documentary', 'watched', 'wiz', 'watched', 'moonwalker', 'maybe', 'want', 'get', 'certain', 'insight', 'guy', 'thought', 'really', 'cool', 'eighties', 'maybe', 'make', 'mind', 'whether', 'guilty', 'innocent', 'moonwalker', 'part', 'biography', 'part', 'feature', 'film', 'remember', 'going', 'see', 'cinema', 'originally', 'released', 'subtle', 'messages', 'mj', 'feeling', 'towards', 'press', 'also', 'obvious', 'message', 'drugs', 'bad', 'kay', 'visually', 'impressive', 'course', 'michael', 'jackson', 'unless', 'remotely', 'like', 'mj', 'anyway', 'going', 'hate', 'find', 'boring', 'may', 'call', 'mj', 'egotist', 'consenting', 'making', 'movie', 'mj', 'fans', 'would', 'say', 'made', 'fans', 'true', 'really', 'nice', 'actual', 'feature', 'film', 'bit', 'finally', 'starts', 'minutes', 'excluding', 'smooth', 'criminal', 'sequence', 'joe', 'pesci', 'convincing', 'psychopathic', 'powerful', 'drug', 'lord', 'wants', 'mj', 'dead', 'bad', 'beyond', 'mj', 'overheard', 'plans', 'nah', 'joe', 'pesci', 'character', 'ranted', 'wanted', 'people', 'know', 'supplying', 'drugs', 'etc', 'dunno', 'maybe', 'hates', 'mj', 'music', 'lots', 'cool', 'things', 'like', 'mj', 'turning', 'car', 'robot', 'whole', 'speed', 'demon', 'sequence', 'also', 'director', 'must', 'patience', 'saint', 'came', 'filming', 'kiddy', 'bad', 'sequence', 'usually', 'directors', 'hate', 'working', 'one', 'kid', 'let', 'alone', 'whole', 'bunch', 'performing', 'complex', 'dance', 'scene', 'bottom', 'line', 'movie', 'people', 'like', 'mj', 'one', 'level', 'another', 'think', 'people', 'stay', 'away', 'try', 'give', 'wholesome', 'message', 'ironically', 'mj', 'bestest', 'buddy', 'movie', 'girl', 'michael', 'jackson', 'truly', 'one', 'talented', 'people', 'ever', 'grace', 'planet', 'guilty', 'well', 'attention', 'gave', 'subject', 'hmmm', 'well', 'know', 'people', 'different', 'behind', 'closed', 'doors', 'know', 'fact', 'either', 'extremely', 'nice', 'stupid', 'guy', 'one', 'sickest', 'liars', 'hope', 'latter']\n",
      "['naturally', 'film', 'main', 'themes', 'mortality', 'nostalgia', 'loss', 'innocence', 'perhaps', 'surprising', 'rated', 'highly', 'older', 'viewers', 'younger', 'ones', 'however', 'craftsmanship', 'completeness', 'film', 'anyone', 'enjoy', 'pace', 'steady', 'constant', 'characters', 'full', 'engaging', 'relationships', 'interactions', 'natural', 'showing', 'need', 'floods', 'tears', 'show', 'emotion', 'screams', 'show', 'fear', 'shouting', 'show', 'dispute', 'violence', 'show', 'anger', 'naturally', 'joyce', 'short', 'story', 'lends', 'film', 'ready', 'made', 'structure', 'perfect', 'polished', 'diamond', 'small', 'changes', 'huston', 'makes', 'inclusion', 'poem', 'fit', 'neatly', 'truly', 'masterpiece', 'tact', 'subtlety', 'overwhelming', 'beauty']\n",
      "\n",
      "Taking the existing clean_train_reviews and clean_test_reviews and converting them into a list of Strings...\n",
      "\n",
      "Done. Testing...\n",
      "stuff going moment mj started listening music watching odd documentary watched wiz watched moonwalker maybe want get certain insight guy thought really cool eighties maybe make mind whether guilty innocent moonwalker part biography part feature film remember going see cinema originally released subtle messages mj feeling towards press also obvious message drugs bad kay visually impressive course michael jackson unless remotely like mj anyway going hate find boring may call mj egotist consenting making movie mj fans would say made fans true really nice actual feature film bit finally starts minutes excluding smooth criminal sequence joe pesci convincing psychopathic powerful drug lord wants mj dead bad beyond mj overheard plans nah joe pesci character ranted wanted people know supplying drugs etc dunno maybe hates mj music lots cool things like mj turning car robot whole speed demon sequence also director must patience saint came filming kiddy bad sequence usually directors hate working one kid let alone whole bunch performing complex dance scene bottom line movie people like mj one level another think people stay away try give wholesome message ironically mj bestest buddy movie girl michael jackson truly one talented people ever grace planet guilty well attention gave subject hmmm well know people different behind closed doors know fact either extremely nice stupid guy one sickest liars hope latter\n",
      "naturally film main themes mortality nostalgia loss innocence perhaps surprising rated highly older viewers younger ones however craftsmanship completeness film anyone enjoy pace steady constant characters full engaging relationships interactions natural showing need floods tears show emotion screams show fear shouting show dispute violence show anger naturally joyce short story lends film ready made structure perfect polished diamond small changes huston makes inclusion poem fit neatly truly masterpiece tact subtlety overwhelming beauty\n"
     ]
    }
   ],
   "source": [
    "print(\"Printing out an element from clean_train_reviews and clean_test_reviews to verify that they're lists of words:\")\n",
    "# each element in clean_train_reviews and clean_test_reviews is a list of words, as demonstrated below.\n",
    "print(clean_train_reviews[0])\n",
    "print(clean_test_reviews[0])\n",
    "\n",
    "print(\"\\nTaking the existing clean_train_reviews and clean_test_reviews and converting them into a list of Strings...\")\n",
    "# We will convert each element from a word list into a single String, with all the words separated by spaces.\n",
    "# This will make it easier for us to pass them into CountVectorizer later.\n",
    "# We initialize a new variable for this purpose\n",
    "clean_train_reviews_str = []\n",
    "for word_list in clean_train_reviews:\n",
    "    clean_train_reviews_str.append(' '.join( word_list )) # Convert each word list into a single String\n",
    "\n",
    "clean_test_reviews_str = []\n",
    "for word_list in clean_test_reviews:\n",
    "    clean_test_reviews_str.append(' '.join( word_list ))\n",
    "\n",
    "print(\"\\nDone. Testing...\")\n",
    "# Testing\n",
    "print(clean_train_reviews_str[0])\n",
    "print(clean_test_reviews_str[0])"
   ]
  },
  {
   "cell_type": "code",
   "execution_count": 31,
   "metadata": {},
   "outputs": [
    {
     "name": "stdout",
     "output_type": "stream",
     "text": [
      "Creating the bag of words for training data...Done.\n",
      "The dimension of Xtrain_bow (expected 25000, 5000):  (25000, 5000)\n",
      "We will now convert Xtrain_bow into nparray for convenienice.\n",
      "Type of Xtrain_bow (before conversion):  <class 'scipy.sparse.csr.csr_matrix'>\n",
      "Type of Xtrain_bow (after conversion):  <class 'numpy.ndarray'>\n",
      "Creating the bag of words for testing data and converting into nparray in one step...Done.\n"
     ]
    }
   ],
   "source": [
    "from sklearn.feature_extraction.text import CountVectorizer\n",
    "from sklearn.decomposition import LatentDirichletAllocation\n",
    "\n",
    "# Initialize the \"CountVectorizer\" object, which is scikit-learn's bag of words tool.  \n",
    "# Note that CountVectorizer comes with its own options to automatically do \n",
    "# preprocessing, tokenization, and stop word removal -- for each of these, \n",
    "# instead of specifying \"None\", we could have used a built-in method \n",
    "# or specified our own function to use.\n",
    "# See the function documentation for more details \n",
    "# (http://scikit-learn.org/stable/modules/generated/sklearn.feature_extraction.text.CountVectorizer.html)\n",
    "# However, we don't need to do so in this case because we did this preprocessing step ourselves to obtain\n",
    "# clean_train_reviews_str and clean_test_reviews_str.\n",
    "\n",
    "# Also note that we capped max_features at 5000. This will limit the # of vocabulary to \n",
    "# 5000 max_features ordered by term frequency across the corpus.\n",
    "# This is done mostly for efficiency reasons.\n",
    "vectorizer = CountVectorizer(analyzer = \"word\",   \\\n",
    "                             tokenizer = None,    \\\n",
    "                             preprocessor = None, \\\n",
    "                             stop_words = None,   \\\n",
    "                             max_features = 5000) \n",
    "# print (vectorizer)\n",
    "\n",
    "print (\"Creating the bag of words for training data...\", end = \"\")\n",
    "\n",
    "# fit_transform() does two functions: First, it fits the model\n",
    "# and learns the vocabulary; second, it transforms our training data\n",
    "# into feature vectors. The input to fit_transform should be a list of strings.\n",
    "Xtrain_bow = vectorizer.fit_transform(clean_train_reviews_str)\n",
    "\n",
    "print(\"Done.\")\n",
    "print (\"The dimension of Xtrain_bow (expected 25000, 5000): \", Xtrain_bow.shape)\n",
    "print(\"We will now convert Xtrain_bow into nparray for convenienice.\")\n",
    "print(\"Type of Xtrain_bow (before conversion): \", type(Xtrain_bow))\n",
    "\n",
    "Xtrain_bow = Xtrain_bow.toarray() # Convert to np array to make it easier to work with\n",
    "print(\"Type of Xtrain_bow (after conversion): \", type(Xtrain_bow))\n",
    "\n",
    "# Note that for the testing data, we simply use .transform() instead of fit_transform()\n",
    "print(\"Creating the bag of words for testing data and converting into nparray in one step...\", end=\"\")\n",
    "Xtest_bow = vectorizer.transform(clean_test_reviews_str).toarray()\n",
    "print(\"Done.\")"
   ]
  },
  {
   "cell_type": "markdown",
   "metadata": {},
   "source": [
    "Next, we initialize LDA and create X3, X4, X3_test, and X4_test as specified in the instructions above."
   ]
  },
  {
   "cell_type": "code",
   "execution_count": 32,
   "metadata": {},
   "outputs": [
    {
     "name": "stdout",
     "output_type": "stream",
     "text": [
      "Creating X3 and X3_test with num_topics=10...\n",
      "Done.\n",
      "Creating X4 and X4_test with num_topics=20...\n",
      "Done.\n"
     ]
    }
   ],
   "source": [
    "# See, e.g. http://scikit-learn.org/stable/auto_examples/applications/topics_extraction_with_nmf_lda.html \n",
    "# for more details on LDA.\n",
    "\n",
    "# Xtrain_bow, Xtest_bow are bag-of-words representations of training and test data, created via CountVectorizer above.\n",
    "\n",
    "# lda = LatentDirichletAllocation(n_topics=10)\n",
    "print(\"Creating X3 and X3_test with num_topics=10...\")\n",
    "lda_x3 = LatentDirichletAllocation(n_topics=10, max_iter=5,\n",
    "                                learning_method='online',\n",
    "                                learning_offset=50.,\n",
    "                                random_state=0)\n",
    "X3 = lda_x3.fit_transform(Xtrain_bow)\n",
    "X3_test = lda_x3.transform(Xtest_bow)\n",
    "\n",
    "print(\"Done.\\nCreating X4 and X4_test with num_topics=20...\")\n",
    "lda_x4 = LatentDirichletAllocation(n_topics=20, max_iter=5,\n",
    "                                learning_method='online',\n",
    "                                learning_offset=50.,\n",
    "                                random_state=0)\n",
    "X4 = lda_x4.fit_transform(Xtrain_bow)\n",
    "X4_test = lda_x4.transform(Xtest_bow)\n",
    "print(\"Done.\")"
   ]
  },
  {
   "cell_type": "markdown",
   "metadata": {},
   "source": [
    "Let's take a quick look at these matrices to see what their elements consist of."
   ]
  },
  {
   "cell_type": "code",
   "execution_count": 33,
   "metadata": {},
   "outputs": [
    {
     "name": "stdout",
     "output_type": "stream",
     "text": [
      "<class 'numpy.ndarray'>\n",
      "\n",
      "(25000, 10) (25000, 10)\n",
      "(25000, 20) (25000, 20)\n",
      "\n",
      "[  5.32110807e-04   5.89203483e-01   5.32096241e-04   1.60150736e-02\n",
      "   1.77630255e-01   5.32120327e-04   5.58768650e-02   1.17363329e-01\n",
      "   5.32025790e-04   4.17826417e-02]\n",
      "[  2.65957455e-04   4.22455425e-01   2.65957450e-04   2.65957448e-04\n",
      "   1.08764772e-01   2.65957451e-04   2.65957459e-04   2.65957452e-04\n",
      "   2.65957450e-04   1.06723047e-02   2.26844311e-02   6.40175092e-02\n",
      "   2.65957451e-04   2.65957456e-04   3.67682154e-01   2.65957447e-04\n",
      "   2.65957447e-04   2.65957450e-04   2.65957456e-04   2.65957449e-04]\n",
      "\n",
      "1.0\n",
      "1.0\n"
     ]
    }
   ],
   "source": [
    "# Each matrix is a numpy ndarray\n",
    "print(type(X3))\n",
    "print()\n",
    "\n",
    "# X3 and X3_test were created with num_topics = 10, whereas X4 and X4_test had num_topics=20.\n",
    "# This is reflected in their shape.\n",
    "print(X3.shape, X3_test.shape)\n",
    "print(X4.shape, X4_test.shape)\n",
    "print()\n",
    "\n",
    "# Each element of the matrix is a list of length num_topics=10 or 20 depending on num_topics, and the float values refer to\n",
    "# the probability distribution that each review falls into one of the 10 or 20 topics.\n",
    "print(X3[0])\n",
    "print(X4[0])\n",
    "print()\n",
    "\n",
    "# As with all probability distributions, we can see that the probabilities sum to 1.\n",
    "print(sum(X3[0]))\n",
    "print(sum(X4[0]))"
   ]
  },
  {
   "cell_type": "markdown",
   "metadata": {},
   "source": [
    "Next, let us print out the top 10 words from each model (lda_x3 and lda_x4) per topic."
   ]
  },
  {
   "cell_type": "code",
   "execution_count": 34,
   "metadata": {
    "collapsed": true
   },
   "outputs": [],
   "source": [
    "# courtesy of http://scikit-learn.org/stable/auto_examples/applications/topics_extraction_with_nmf_lda.html\n",
    "def print_top_words(model, feature_names, n_top_words):\n",
    "    for topic_idx, topic in enumerate(model.components_):\n",
    "        print(\"Topic #%d:\" % topic_idx)\n",
    "        print(\" \".join([feature_names[i]\n",
    "                        for i in topic.argsort()[:-n_top_words - 1:-1]]))\n",
    "    print()"
   ]
  },
  {
   "cell_type": "code",
   "execution_count": 35,
   "metadata": {
    "scrolled": true
   },
   "outputs": [
    {
     "name": "stdout",
     "output_type": "stream",
     "text": [
      "\n",
      "Topics in LDA models:\n",
      "Topic #0:\n",
      "film bad horror one like even effects acting budget plot\n",
      "Topic #1:\n",
      "movie like one good really would see movies bad even\n",
      "Topic #2:\n",
      "one film like little house good much really end get\n",
      "Topic #3:\n",
      "series animation disney fi sci episode science animated new space\n",
      "Topic #4:\n",
      "one great best show comedy film time music also funny\n",
      "Topic #5:\n",
      "woman love young man wife husband romance jane mother women\n",
      "Topic #6:\n",
      "action man one police car also murder crime fight get\n",
      "Topic #7:\n",
      "film story one well characters films character great much also\n",
      "Topic #8:\n",
      "family life father son old girl get boy one two\n",
      "Topic #9:\n",
      "war people show world us series american would documentary one\n",
      "\n",
      "Topic #0:\n",
      "horror bad effects budget one low gore acting blood like\n",
      "Topic #1:\n",
      "movie like one really good would movies see bad even\n",
      "Topic #2:\n",
      "old film sex young child one good well year church\n",
      "Topic #3:\n",
      "jack killer london serial africa lugosi bourne spin doc killers\n",
      "Topic #4:\n",
      "one best role john great film cast also performance plays\n",
      "Topic #5:\n",
      "war american world german match japanese history soldiers army military\n",
      "Topic #6:\n",
      "john christmas family tony joe brother steve page andy life\n",
      "Topic #7:\n",
      "film story one great show love well life characters time\n",
      "Topic #8:\n",
      "game get fi sci back monster gets two girls one\n",
      "Topic #9:\n",
      "star earth space science planet harry series al wars action\n",
      "Topic #10:\n",
      "book original version animation read king story disney series novel\n",
      "Topic #11:\n",
      "film films good scenes one great well music also movie\n",
      "Topic #12:\n",
      "funny good comedy movie one action like character really bad\n",
      "Topic #13:\n",
      "car dad charlie town uncle cage nancy dog family drew\n",
      "Topic #14:\n",
      "film one like people would even way time get make\n",
      "Topic #15:\n",
      "keaton johnny lynch ice sinatra washington football sisters china monkey\n",
      "Topic #16:\n",
      "school high gay allen student students teacher class shakespeare woody\n",
      "Topic #17:\n",
      "lee doctor dr house tarzan daughter mystery witch harris segment\n",
      "Topic #18:\n",
      "man woman father police wife murder son young crime husband\n",
      "Topic #19:\n",
      "de french jane western love stewart mr mother indian ford\n",
      "\n"
     ]
    }
   ],
   "source": [
    "print(\"\\nTopics in LDA models:\")\n",
    "vectorizer_feature_names = vectorizer.get_feature_names()\n",
    "print_top_words(lda_x3, vectorizer_feature_names, 10)\n",
    "print_top_words(lda_x4, vectorizer_feature_names, 10)"
   ]
  },
  {
   "cell_type": "markdown",
   "metadata": {},
   "source": [
    "Now that we have saved X3, X4, X3_test and X4_test, we will move on to Part 3..."
   ]
  },
  {
   "cell_type": "markdown",
   "metadata": {},
   "source": [
    "### Part 3. Classification Experiment\n",
    "Using the Kaggle blog series as a guide, we'll do the following:\n",
    "\n",
    "a. Properly train and tune a collection of random forest classifiers using cross-validation for each of the design matrices X1...X4. We will end up with four classifiers, M1...M4.\n",
    "\n",
    "b. Plot the ROCs for each classifier computed on the test set.\n",
    "\n",
    "c. Analyze which featurization technique worked best for sentiment classification. Is this better or worse than the simple bag-of-words approach? How might we improve the efficacy of the classifier?"
   ]
  },
  {
   "cell_type": "markdown",
   "metadata": {},
   "source": [
    "Let's begin by importing some of the libraries we will use for this section."
   ]
  },
  {
   "cell_type": "code",
   "execution_count": 36,
   "metadata": {
    "collapsed": true
   },
   "outputs": [],
   "source": [
    "from sklearn.ensemble import RandomForestClassifier\n",
    "from sklearn.model_selection import train_test_split\n",
    "from sklearn.model_selection import KFold\n",
    "from sklearn.metrics import roc_curve, auc\n",
    "from scipy import interp\n",
    "import matplotlib.pyplot as plt"
   ]
  },
  {
   "cell_type": "markdown",
   "metadata": {},
   "source": [
    "For purposes of training, we will separately save an array of the ground-truth correct sentiment labels for the training data."
   ]
  },
  {
   "cell_type": "code",
   "execution_count": 37,
   "metadata": {},
   "outputs": [
    {
     "name": "stdout",
     "output_type": "stream",
     "text": [
      "[1 1 0 ..., 0 0 1]\n",
      "25000\n",
      "<class 'numpy.ndarray'>\n"
     ]
    }
   ],
   "source": [
    "# We will save the sentiment column as a Y value for training purposes\n",
    "Y = train[\"sentiment\"].values # the .values attribute saves the column as a numpy array.\n",
    "print (Y)\n",
    "print (len(Y)) # Expected 25000\n",
    "print(type(Y)) # numpy array type"
   ]
  },
  {
   "cell_type": "markdown",
   "metadata": {},
   "source": [
    "Now, Let's create a method that performs classification using Random Forest. We will have the default parameters include 5-fold cross validation along with 15 loops. Parameters are as follows:\n",
    "\n",
    "X_train is the training data containing one of the design matrices\n",
    "\n",
    "Y_train is the corresponding training data containing sentiment labels\n",
    "\n",
    "X_str is a String just to identify which design matrix we're working with (for user-friendliness)\n",
    "\n",
    "folds is the no. of folds to be used for the K-Fold cross validation\n",
    "\n",
    "loops is the no. of times we repeat the training\n",
    "\n",
    "Returns a tuple (auc, fpr, tpr, c) containing the highest value of AUC found, along with corresponding false positive / true positive rates and the value of C that was used to initialize LinearSVC."
   ]
  },
  {
   "cell_type": "code",
   "execution_count": 38,
   "metadata": {
    "collapsed": true
   },
   "outputs": [],
   "source": [
    "def k_fold_randomforest_classification(X_train, Y_train, X_str, folds=5, loops=15):\n",
    "    \n",
    "    # Initialize list of tuples, where each tuple is in the form (mean_auc, mean_fpr, mean_tpr, C),\n",
    "    # where mean_auc is the mean area under the curve measurement that we will conduct below,\n",
    "    # mean_fpr and mean_tpr are the mean false positive rate and mean true positive rate which we need for graphing,\n",
    "    # and C = the C parameter used when initializing the LinearSVC classifier above.\n",
    "    roc_auc_list = []\n",
    "    \n",
    "    print(\"Starting {}-fold cross-validation on the training set for {} (repeating {} times)...\".format(\n",
    "                                                                                        folds, X_str, loops))\n",
    "    \n",
    "    # Repeat the following a total of L times, where L = the loops parameter above\n",
    "    for i in range(loops):\n",
    "        print (\"Loop {}...\".format(i), end=\"\")\n",
    "        # Run classifier with cross-validation and plot ROC curves\n",
    "        cv = KFold(n_splits=folds)\n",
    "        c = np.random.randint(10, 101)\n",
    "        print(\"C = {}\".format(c))\n",
    "        classifier = RandomForestClassifier(n_estimators = c)\n",
    "        mean_tpr = 0.0                     # Mean true positive rate\n",
    "        mean_fpr = np.linspace(0, 1, 100)  # Mean false positive rate\n",
    "\n",
    "        # Perform 5-fold cross validation, and estimate / record the roc-auc along with the C value used.\n",
    "        for (train, test) in cv.split(X_train, Y_train):\n",
    "            probas_ = classifier.fit(X_train[train], Y_train[train]).predict_proba(X_train[test])\n",
    "\n",
    "            fpr, tpr, thresholds = roc_curve(Y_train[test], probas_[:, 1])\n",
    "            mean_tpr += interp(mean_fpr, fpr, tpr)  # Add up the mean true positive rate (to be divided later)\n",
    "            mean_tpr[0] = 0.0\n",
    "            # Use auc() method to compute Area Under Curve, where fpr = false positive rate (horizontal axis) \n",
    "            # and tpr = true positive rate (vertical axis)\n",
    "            roc_auc = auc(fpr, tpr) \n",
    "        # End for (train, test)\n",
    "        \n",
    "        # Now that we're done with the K-fold cross-validation, compute the mean\n",
    "        mean_tpr /= cv.get_n_splits(X_train, Y_train)  # Compute mean positive rate\n",
    "        mean_tpr[-1] = 1.0\n",
    "        mean_auc = auc(mean_fpr, mean_tpr)             # Compute mean area under the curve\n",
    "        print(\"C, AUC: {}, {}\".format(c, mean_auc))\n",
    "\n",
    "        # Append the mean area under curve along with the c value we used.\n",
    "        # We will later look thru the list to find the C-value that resulted in best auc.\n",
    "        roc_auc_list.append((mean_auc, mean_fpr, mean_tpr, c))\n",
    "    # End for i in range(loops)\n",
    "    \n",
    "    # Now that we're done with all the loops,\n",
    "    # see which value of C performed the best, by sorting roc_auc_list and looking at the best (largest) mean_auc score\n",
    "    roc_auc_list.sort(key=lambda tup: tup[0], reverse = True)\n",
    "    best_performer = roc_auc_list[0]\n",
    "    best_mean_auc = best_performer[0]\n",
    "    best_mean_fpr = best_performer[1]\n",
    "    best_mean_tpr = best_performer[2]\n",
    "    best_C = best_performer[-1]\n",
    "    \n",
    "    worst_performer = roc_auc_list[-1]\n",
    "    worst_mean_auc = worst_performer[0]\n",
    "    worst_C = worst_performer[-1]\n",
    "    \n",
    "    print(\"Value of C that produced the best ROC-AUC measurement: {}\\nCorresponding AUC value: {}\".format(best_C, best_mean_auc))\n",
    "    print(\"The lift (improvement in AUC) between the worst and best case for the design matrix {}: {}\".format(\n",
    "        X_str, best_mean_auc - worst_mean_auc))\n",
    "    return best_performer"
   ]
  },
  {
   "cell_type": "markdown",
   "metadata": {},
   "source": [
    "We will now use the above function to train and test the performance of each of our four matrices. \n",
    "\n",
    "We will initially split each matrix into 80 / 20 train/test sets before invoking the above function. Afterwards, we will take the best-performing C-value, and re-train the 80% learning set of each design matrix, after which we will compute and graph the ROC_AUC curve.\n",
    "\n",
    "Finally, we will re-train 100% of the learning set and make predictions on the Kaggle test set, then print our predictions to a file to be submitted to Kaggle, after which we will report the Kaggle score for each matrix."
   ]
  },
  {
   "cell_type": "code",
   "execution_count": 39,
   "metadata": {
    "scrolled": true
   },
   "outputs": [
    {
     "name": "stdout",
     "output_type": "stream",
     "text": [
      "====================================================\n",
      "    Training with X1...\n",
      "====================================================\n",
      "\n",
      "Starting 5-fold cross-validation on the training set for X1 (repeating 15 times)...\n",
      "Loop 0...C = 54\n",
      "C, AUC: 54, 0.9090978537743899\n",
      "Loop 1...C = 11\n",
      "C, AUC: 11, 0.8613409874181845\n",
      "Loop 2...C = 13\n",
      "C, AUC: 13, 0.8672841232513414\n",
      "Loop 3...C = 95\n",
      "C, AUC: 95, 0.9146044206418456\n",
      "Loop 4...C = 77\n",
      "C, AUC: 77, 0.9132884762608464\n",
      "Loop 5...C = 99\n",
      "C, AUC: 99, 0.9154006712890874\n",
      "Loop 6...C = 29\n",
      "C, AUC: 29, 0.8963286901042294\n",
      "Loop 7...C = 81\n",
      "C, AUC: 81, 0.9144908814330207\n",
      "Loop 8...C = 76\n",
      "C, AUC: 76, 0.9125314638557467\n",
      "Loop 9...C = 24\n",
      "C, AUC: 24, 0.8914420496399759\n",
      "Loop 10...C = 12\n",
      "C, AUC: 12, 0.862649065683141\n",
      "Loop 11...C = 57\n",
      "C, AUC: 57, 0.9101199454583329\n",
      "Loop 12...C = 23\n",
      "C, AUC: 23, 0.8886393659079734\n",
      "Loop 13...C = 86\n",
      "C, AUC: 86, 0.9151186420214805\n",
      "Loop 14...C = 25\n",
      "C, AUC: 25, 0.8905154643307043\n",
      "Value of C that produced the best ROC-AUC measurement: 99\n",
      "Corresponding AUC value: 0.9154006712890874\n",
      "The lift (improvement in AUC) between the worst and best case for the design matrix X1: 0.054059683870902875\n",
      "\n",
      "Retraining the classifier using the entire learning set of X1 with the best C value of 99...\n",
      "Done retraining. C, AUC = 99, 0.9170576641373076\n",
      "\n",
      "Plotting the ROC-AUC curve...\n"
     ]
    },
    {
     "data": {
      "image/png": "[encoded data removed]",
      "text/plain": [
       "<matplotlib.figure.Figure at 0x238e12792e8>"
      ]
     },
     "metadata": {},
     "output_type": "display_data"
    },
    {
     "name": "stdout",
     "output_type": "stream",
     "text": [
      "Now preparing to submit test set predictions to Kaggle.\n",
      "We will retrain one last time using the best C value we found above, and\n",
      "using ALL training data (100%) of the design matrix X1...\n",
      "\n",
      "Now using our classifier to predict the sentiment label for each review in the corresponding test data...\n",
      "Done predicting all sentiment labels. Outputting the predictions to X1_model.csv...\n",
      "Finished!\n",
      "\n",
      "====================================================\n",
      "    Training with X2...\n",
      "====================================================\n",
      "\n",
      "Starting 5-fold cross-validation on the training set for X2 (repeating 15 times)...\n",
      "Loop 0...C = 84\n",
      "C, AUC: 84, 0.9076364012423802\n",
      "Loop 1...C = 61\n",
      "C, AUC: 61, 0.9048517976639271\n",
      "Loop 2...C = 92\n",
      "C, AUC: 92, 0.9095902854294896\n",
      "Loop 3...C = 13\n",
      "C, AUC: 13, 0.8587814761806977\n",
      "Loop 4...C = 41\n",
      "C, AUC: 41, 0.8981627283566204\n",
      "Loop 5...C = 17\n",
      "C, AUC: 17, 0.8716085302703032\n",
      "Loop 6...C = 16\n",
      "C, AUC: 16, 0.8679389303261849\n",
      "Loop 7...C = 62\n",
      "C, AUC: 62, 0.9057932288196713\n",
      "Loop 8...C = 79\n",
      "C, AUC: 79, 0.9088512938500651\n",
      "Loop 9...C = 88\n",
      "C, AUC: 88, 0.9092996609232289\n",
      "Loop 10...C = 98\n",
      "C, AUC: 98, 0.910171332433103\n",
      "Loop 11...C = 91\n",
      "C, AUC: 91, 0.9104220082619758\n",
      "Loop 12...C = 68\n",
      "C, AUC: 68, 0.9047782259284198\n",
      "Loop 13...C = 56\n",
      "C, AUC: 56, 0.9036431612839442\n",
      "Loop 14...C = 45\n",
      "C, AUC: 45, 0.900062660185016\n",
      "Value of C that produced the best ROC-AUC measurement: 91\n",
      "Corresponding AUC value: 0.9104220082619758\n",
      "The lift (improvement in AUC) between the worst and best case for the design matrix X2: 0.05164053208127817\n",
      "\n",
      "Retraining the classifier using the entire learning set of X2 with the best C value of 91...\n",
      "Done retraining. C, AUC = 91, 0.9167368258634864\n",
      "\n",
      "Plotting the ROC-AUC curve...\n"
     ]
    },
    {
     "data": {
      "image/png": "[encoded data removed]",
      "text/plain": [
       "<matplotlib.figure.Figure at 0x238e138d7f0>"
      ]
     },
     "metadata": {},
     "output_type": "display_data"
    },
    {
     "name": "stdout",
     "output_type": "stream",
     "text": [
      "Now preparing to submit test set predictions to Kaggle.\n",
      "We will retrain one last time using the best C value we found above, and\n",
      "using ALL training data (100%) of the design matrix X2...\n",
      "\n",
      "Now using our classifier to predict the sentiment label for each review in the corresponding test data...\n",
      "Done predicting all sentiment labels. Outputting the predictions to X2_model.csv...\n",
      "Finished!\n",
      "\n",
      "====================================================\n",
      "    Training with X3...\n",
      "====================================================\n",
      "\n",
      "Starting 5-fold cross-validation on the training set for X3 (repeating 15 times)...\n",
      "Loop 0...C = 45\n",
      "C, AUC: 45, 0.7968753733529284\n",
      "Loop 1...C = 62\n",
      "C, AUC: 62, 0.7985283204538566\n",
      "Loop 2...C = 31\n",
      "C, AUC: 31, 0.7939561180532281\n",
      "Loop 3...C = 34\n",
      "C, AUC: 34, 0.7950992490122232\n",
      "Loop 4...C = 42\n",
      "C, AUC: 42, 0.7966691117729663\n",
      "Loop 5...C = 21\n",
      "C, AUC: 21, 0.7868083431223366\n",
      "Loop 6...C = 91\n",
      "C, AUC: 91, 0.7997139400788751\n",
      "Loop 7...C = 84\n",
      "C, AUC: 84, 0.7988296208740143\n",
      "Loop 8...C = 68\n",
      "C, AUC: 68, 0.7980497075796583\n",
      "Loop 9...C = 40\n",
      "C, AUC: 40, 0.7934760292966309\n",
      "Loop 10...C = 52\n",
      "C, AUC: 52, 0.7975607522845264\n",
      "Loop 11...C = 93\n",
      "C, AUC: 93, 0.7986771199530737\n",
      "Loop 12...C = 81\n",
      "C, AUC: 81, 0.798797632730125\n",
      "Loop 13...C = 59\n",
      "C, AUC: 59, 0.797259117711913\n",
      "Loop 14...C = 50\n",
      "C, AUC: 50, 0.7968793646284864\n",
      "Value of C that produced the best ROC-AUC measurement: 91\n",
      "Corresponding AUC value: 0.7997139400788751\n",
      "The lift (improvement in AUC) between the worst and best case for the design matrix X3: 0.012905596956538479\n",
      "\n",
      "Retraining the classifier using the entire learning set of X3 with the best C value of 91...\n",
      "Done retraining. C, AUC = 91, 0.8119663632801596\n",
      "\n",
      "Plotting the ROC-AUC curve...\n"
     ]
    },
    {
     "data": {
      "image/png": "[encoded data removed]",
      "text/plain": [
       "<matplotlib.figure.Figure at 0x238e1859da0>"
      ]
     },
     "metadata": {},
     "output_type": "display_data"
    },
    {
     "name": "stdout",
     "output_type": "stream",
     "text": [
      "Now preparing to submit test set predictions to Kaggle.\n",
      "We will retrain one last time using the best C value we found above, and\n",
      "using ALL training data (100%) of the design matrix X3...\n",
      "\n",
      "Now using our classifier to predict the sentiment label for each review in the corresponding test data...\n",
      "Done predicting all sentiment labels. Outputting the predictions to X3_model.csv...\n",
      "Finished!\n",
      "\n",
      "====================================================\n",
      "    Training with X4...\n",
      "====================================================\n",
      "\n",
      "Starting 5-fold cross-validation on the training set for X4 (repeating 15 times)...\n",
      "Loop 0...C = 33\n",
      "C, AUC: 33, 0.8118400497293494\n",
      "Loop 1...C = 32\n",
      "C, AUC: 32, 0.8117356151648089\n",
      "Loop 2...C = 84\n",
      "C, AUC: 84, 0.8201785020590138\n",
      "Loop 3...C = 35\n",
      "C, AUC: 35, 0.8138027120759228\n",
      "Loop 4...C = 56\n",
      "C, AUC: 56, 0.819034871838061\n",
      "Loop 5...C = 19\n",
      "C, AUC: 19, 0.8059402036331776\n",
      "Loop 6...C = 34\n",
      "C, AUC: 34, 0.8135786951763763\n",
      "Loop 7...C = 15\n",
      "C, AUC: 15, 0.801739347186195\n",
      "Loop 8...C = 83\n",
      "C, AUC: 83, 0.8215110167846928\n",
      "Loop 9...C = 53\n",
      "C, AUC: 53, 0.8164038455224681\n",
      "Loop 10...C = 26\n",
      "C, AUC: 26, 0.8112340517665124\n",
      "Loop 11...C = 48\n",
      "C, AUC: 48, 0.8156973478032491\n",
      "Loop 12...C = 81\n",
      "C, AUC: 81, 0.8197523350643646\n",
      "Loop 13...C = 77\n",
      "C, AUC: 77, 0.8203531732799283\n",
      "Loop 14...C = 82\n",
      "C, AUC: 82, 0.820961152881184\n",
      "Value of C that produced the best ROC-AUC measurement: 83\n",
      "Corresponding AUC value: 0.8215110167846928\n",
      "The lift (improvement in AUC) between the worst and best case for the design matrix X4: 0.019771669598497854\n",
      "\n",
      "Retraining the classifier using the entire learning set of X4 with the best C value of 83...\n",
      "Done retraining. C, AUC = 83, 0.8352795974708118\n",
      "\n",
      "Plotting the ROC-AUC curve...\n"
     ]
    },
    {
     "data": {
      "image/png": "[encoded data removed]",
      "text/plain": [
       "<matplotlib.figure.Figure at 0x238e1a87da0>"
      ]
     },
     "metadata": {},
     "output_type": "display_data"
    },
    {
     "name": "stdout",
     "output_type": "stream",
     "text": [
      "Now preparing to submit test set predictions to Kaggle.\n",
      "We will retrain one last time using the best C value we found above, and\n",
      "using ALL training data (100%) of the design matrix X4...\n",
      "\n",
      "Now using our classifier to predict the sentiment label for each review in the corresponding test data...\n",
      "Done predicting all sentiment labels. Outputting the predictions to X4_model.csv...\n",
      "Finished!\n",
      "\n"
     ]
    }
   ],
   "source": [
    "np.random.seed(0)\n",
    "lw = 2  # this is the line width that we will use for plotting\n",
    "\n",
    "# Place into lists the 4 design matrices and corresponding Y (sentiment) vectors which we created in Section 2.\n",
    "# We will iterate through these and train our model for each design matrix and gauge their performance\n",
    "X_List = [X1, X2, X3, X4]\n",
    "X_Str_List = [\"X1\", \"X2\", \"X3\", \"X4\"]\n",
    "X_Test_List = [X1_test, X2_test, X3_test, X4_test]\n",
    "Y_List = [Y, Y, Y, Y]\n",
    "\n",
    "# The below 2 variables are parameters that will be fed into the invocation of get_test_data_features() method.\n",
    "# test = None\n",
    "# test_data_features = None\n",
    "\n",
    "# Go thru each element in X_List and corresponding element in Y_List\n",
    "for xi, yi in zip(range(len(X_List)), range(len(Y_List))):\n",
    "    print(\"====================================================\\n\\\n",
    "    Training with {}...\\n====================================================\\n\".format(X_Str_List[xi])) # testing\n",
    "    # Doing 80/20 split into training / test data\n",
    "    X_train, X_test, Y_train, Y_test = train_test_split(X_List[xi], Y_List[yi], test_size=0.20, random_state = 0)\n",
    "    best_performer = k_fold_randomforest_classification(X_train, Y_train, X_Str_List[xi])  # Call custom function\n",
    "    best_mean_auc = best_performer[0]\n",
    "    best_mean_fpr = best_performer[1]\n",
    "    best_mean_tpr = best_performer[2]\n",
    "    best_C = best_performer[-1]\n",
    "    \n",
    "    print (\"\\nRetraining the classifier using the entire learning set of {} with the best C value of {}...\".format(\n",
    "        X_Str_List[xi], best_C))\n",
    "    \n",
    "    classifier = RandomForestClassifier(n_estimators = best_C)\n",
    "    probas_ = classifier.fit(X_train, Y_train).predict_proba(X_test)\n",
    "    fpr, tpr, thresholds = roc_curve(Y_test, probas_[:, 1])\n",
    "    roc_auc = auc(fpr, tpr)\n",
    "    print(\"Done retraining. C, AUC = {}, {}\".format(best_C, roc_auc))\n",
    "    print(\"\\nPlotting the ROC-AUC curve...\")\n",
    "    plt.plot([0, 1], [0, 1], linestyle='--', lw=lw, color='k',\n",
    "                 label='Luck')\n",
    "    plt.plot(fpr, tpr, color='g', linestyle='--',\n",
    "         label='Best ROC for {:} (area = {:.2f})'.format(X_Str_List[xi], roc_auc), lw=lw)\n",
    "\n",
    "    # Set the range of x-axis and y-axis for graphing purposes.\n",
    "    plt.xlim([-0.05, 1.05])\n",
    "    plt.ylim([-0.05, 1.05])\n",
    "\n",
    "    plt.xlabel('False Positive Rate')\n",
    "    plt.ylabel('True Positive Rate')\n",
    "    plt.title('Receiver operating characteristic')\n",
    "    plt.legend(loc=\"lower right\", fontsize=10)\n",
    "    plt.show()\n",
    "    \n",
    "    print(\"Now preparing to submit test set predictions to Kaggle.\")\n",
    "    print(\"We will retrain one last time using the best C value we found above, and\\n\\\n",
    "using ALL training data (100%) of the design matrix {}...\".format(X_Str_List[xi]), end=\"\")\n",
    "    classifier = RandomForestClassifier(n_estimators = best_C)\n",
    "    classifier = classifier.fit(X_train, Y_train)\n",
    "    print(\"\\n\\nNow using our classifier to predict the sentiment label for each review in the corresponding test data...\")\n",
    "    result = classifier.predict(X_Test_List[xi])\n",
    "    print(\"Done predicting all sentiment labels. Outputting the predictions to {}_model.csv...\".format(X_Str_List[xi]))\n",
    "    \n",
    "    output = pd.DataFrame( data={\"id\":test[\"id\"], \"sentiment\":result} )\n",
    "\n",
    "    output.to_csv( \"{}_model.csv\".format(X_Str_List[xi]), index=False, quoting=3 )\n",
    "    print(\"Finished!\\n\")"
   ]
  },
  {
   "cell_type": "markdown",
   "metadata": {},
   "source": [
    "Below is the result of each model as submitted to Kaggle (If the image doesn't show below, refer to the file KAGGLE_submissions.png):"
   ]
  },
  {
   "cell_type": "markdown",
   "metadata": {},
   "source": [
    "<img src=\"KAGGLE_submissions.png\">"
   ]
  },
  {
   "cell_type": "markdown",
   "metadata": {},
   "source": [
    "Out of the 4 models, model X1 gave the best accuracy results (0.83836 on Kaggle).\n",
    "\n",
    "Overall, these classifiers underperformed in their predictive performance when compared to the simple bag-of-words model, which is implemented below (and resulted in an accuracy of ~84-85% on Kaggle, screenshot below).\n",
    "\n",
    "For future experiments, we may try a few things to possibly improve performance of one or more of the classifiers:\n",
    "\n",
    "* For X1 and/or X2, try varying the number of clusters.\n",
    "* For X2 (which is derived from the Google Word2Vec model), try not filtering out any words from the pre-trained model. This will result in efficiency taking a hit; however, maintaining the original list of 3,000,000 words and their pre-trained relations may improve predictive performance due to better clustering.\n",
    "* Use larger value of n_estimators (greater than 100) for the RandomForestClassifier. We used varying values from 10 to 100 for our experiments above, and it appears that larger values resulted in the the best performance for all four models.\n",
    "* Vary the parameter n_topics for the LDA. In our experiments, we tried values of 10 and 20 for n_topics; however it is possible that smaller or larger values may work better, especially for a binary sentiment classification task such as ours.\n",
    "* Try different representations of the corpus, e.g. TfidfVectorizer, etc."
   ]
  },
  {
   "cell_type": "code",
   "execution_count": 40,
   "metadata": {
    "scrolled": true
   },
   "outputs": [
    {
     "name": "stdout",
     "output_type": "stream",
     "text": [
      "Cleaning and parsing the training set movie reviews...\n",
      "\n"
     ]
    },
    {
     "name": "stderr",
     "output_type": "stream",
     "text": [
      "D:\\Program_Files_Nospace\\Anaconda3\\lib\\site-packages\\bs4\\__init__.py:181: UserWarning: No parser was explicitly specified, so I'm using the best available HTML parser for this system (\"lxml\"). This usually isn't a problem, but if you run this code on another system, or in a different virtual environment, it may use a different parser and behave differently.\n",
      "\n",
      "The code that caused this warning is on line 193 of the file D:\\Program_Files_Nospace\\Anaconda3\\lib\\runpy.py. To get rid of this warning, change code that looks like this:\n",
      "\n",
      " BeautifulSoup(YOUR_MARKUP})\n",
      "\n",
      "to this:\n",
      "\n",
      " BeautifulSoup(YOUR_MARKUP, \"lxml\")\n",
      "\n",
      "  markup_type=markup_type))\n"
     ]
    },
    {
     "name": "stdout",
     "output_type": "stream",
     "text": [
      "Creating the bag of words...\n",
      "\n",
      "Training the random forest (this may take a while)...\n",
      "Cleaning and parsing the test set movie reviews...\n",
      "\n"
     ]
    },
    {
     "name": "stderr",
     "output_type": "stream",
     "text": [
      "D:\\Program_Files_Nospace\\Anaconda3\\lib\\site-packages\\bs4\\__init__.py:181: UserWarning: No parser was explicitly specified, so I'm using the best available HTML parser for this system (\"lxml\"). This usually isn't a problem, but if you run this code on another system, or in a different virtual environment, it may use a different parser and behave differently.\n",
      "\n",
      "The code that caused this warning is on line 193 of the file D:\\Program_Files_Nospace\\Anaconda3\\lib\\runpy.py. To get rid of this warning, change code that looks like this:\n",
      "\n",
      " BeautifulSoup(YOUR_MARKUP})\n",
      "\n",
      "to this:\n",
      "\n",
      " BeautifulSoup(YOUR_MARKUP, \"lxml\")\n",
      "\n",
      "  markup_type=markup_type))\n"
     ]
    },
    {
     "name": "stdout",
     "output_type": "stream",
     "text": [
      "Predicting test labels...\n",
      "\n",
      "Wrote results to Bag_of_Words_model.csv\n"
     ]
    }
   ],
   "source": [
    "# The below code is taken from https://github.com/wendykan/DeepLearningMovies/blob/master/BagOfWords.py\n",
    "# with edited syntax,\n",
    "# Puts out a bag of words prediction csv file, for comparison with the above models\n",
    "\n",
    "import os\n",
    "from sklearn.feature_extraction.text import CountVectorizer\n",
    "from sklearn.ensemble import RandomForestClassifier\n",
    "import pandas as pd\n",
    "import numpy as np\n",
    "\n",
    "import re\n",
    "import nltk\n",
    "\n",
    "from bs4 import BeautifulSoup\n",
    "from nltk.corpus import stopwords\n",
    "\n",
    "\n",
    "def review_to_wordlist( review, remove_stopwords=False ):\n",
    "    # Function to convert a document to a sequence of words,\n",
    "    # optionally removing stop words.  Returns a list of words.\n",
    "    #\n",
    "    # 1. Remove HTML\n",
    "    review_text = BeautifulSoup(review).get_text()\n",
    "    #\n",
    "    # 2. Remove non-letters\n",
    "    review_text = re.sub(\"[^a-zA-Z]\",\" \", review_text)\n",
    "    #\n",
    "    # 3. Convert words to lower case and split them\n",
    "    words = review_text.lower().split()\n",
    "    #\n",
    "    # 4. Optionally remove stop words (false by default)\n",
    "    if remove_stopwords:\n",
    "        stops = set(stopwords.words(\"english\"))\n",
    "        words = [w for w in words if not w in stops]\n",
    "    #\n",
    "    # 5. Return a list of words\n",
    "    return(words)\n",
    "\n",
    "train = pd.read_csv('labeledTrainData.tsv', header=0, \\\n",
    "                delimiter=\"\\t\", quoting=3)\n",
    "test = pd.read_csv('testData.tsv', header=0, delimiter=\"\\t\", \\\n",
    "               quoting=3 )\n",
    "\n",
    "#nltk.download()  # Download text data sets, including stop words\n",
    "\n",
    "# Initialize an empty list to hold the clean reviews\n",
    "clean_train_reviews = []\n",
    "\n",
    "# Loop over each review; create an index i that goes from 0 to the length\n",
    "# of the movie review list\n",
    "\n",
    "print (\"Cleaning and parsing the training set movie reviews...\\n\")\n",
    "for i in range( 0, len(train[\"review\"])):\n",
    "    clean_train_reviews.append(\" \".join(review_to_wordlist(train[\"review\"][i], True)))\n",
    "\n",
    "\n",
    "# ****** Create a bag of words from the training set\n",
    "#\n",
    "print (\"Creating the bag of words...\\n\")\n",
    "\n",
    "\n",
    "# Initialize the \"CountVectorizer\" object, which is scikit-learn's\n",
    "# bag of words tool.\n",
    "vectorizer = CountVectorizer(analyzer = \"word\",   \\\n",
    "                         tokenizer = None,    \\\n",
    "                         preprocessor = None, \\\n",
    "                         stop_words = None,   \\\n",
    "                         max_features = 5000)\n",
    "\n",
    "# fit_transform() does two functions: First, it fits the model\n",
    "# and learns the vocabulary; second, it transforms our training data\n",
    "# into feature vectors. The input to fit_transform should be a list of\n",
    "# strings.\n",
    "train_data_features = vectorizer.fit_transform(clean_train_reviews)\n",
    "\n",
    "# Numpy arrays are easy to work with, so convert the result to an\n",
    "# array\n",
    "np.asarray(train_data_features)\n",
    "\n",
    "# ******* Train a random forest using the bag of words\n",
    "#\n",
    "print (\"Training the random forest (this may take a while)...\")\n",
    "\n",
    "\n",
    "# Initialize a Random Forest classifier with 100 trees\n",
    "forest = RandomForestClassifier(n_estimators = 100)\n",
    "\n",
    "# Fit the forest to the training set, using the bag of words as\n",
    "# features and the sentiment labels as the response variable\n",
    "#\n",
    "# This may take a few minutes to run\n",
    "forest = forest.fit( train_data_features, train[\"sentiment\"] )\n",
    "\n",
    "\n",
    "\n",
    "# Create an empty list and append the clean reviews one by one\n",
    "clean_test_reviews = []\n",
    "\n",
    "print (\"Cleaning and parsing the test set movie reviews...\\n\")\n",
    "for i in range(0,len(test[\"review\"])):\n",
    "    clean_test_reviews.append(\" \".join(review_to_wordlist(test[\"review\"][i], True)))\n",
    "\n",
    "# Get a bag of words for the test set, and convert to a numpy array\n",
    "test_data_features = vectorizer.transform(clean_test_reviews)\n",
    "np.asarray(test_data_features)\n",
    "\n",
    "# Use the random forest to make sentiment label predictions\n",
    "print (\"Predicting test labels...\\n\")\n",
    "result = forest.predict(test_data_features)\n",
    "\n",
    "# Copy the results to a pandas dataframe with an \"id\" column and\n",
    "# a \"sentiment\" column\n",
    "output = pd.DataFrame( data={\"id\":test[\"id\"], \"sentiment\":result} )\n",
    "\n",
    "# Use pandas to write the comma-separated output file\n",
    "output.to_csv('Bag_of_Words_model.csv', index=False, quoting=3)\n",
    "print (\"Wrote results to Bag_of_Words_model.csv\")"
   ]
  },
  {
   "cell_type": "markdown",
   "metadata": {},
   "source": [
    "<img src=\"KAGGLE_submission_BOW.png\">"
   ]
  },
  {
   "cell_type": "code",
   "execution_count": null,
   "metadata": {
    "collapsed": true
   },
   "outputs": [],
   "source": []
  }
 ],
 "metadata": {
  "anaconda-cloud": {},
  "kernelspec": {
   "display_name": "Python 3",
   "language": "python",
   "name": "python3"
  },
  "language_info": {
   "codemirror_mode": {
    "name": "ipython",
    "version": 3
   },
   "file_extension": ".py",
   "mimetype": "text/x-python",
   "name": "python",
   "nbconvert_exporter": "python",
   "pygments_lexer": "ipython3",
   "version": "3.6.1"
  }
 },
 "nbformat": 4,
 "nbformat_minor": 1
}
